{
 "cells": [
  {
   "cell_type": "code",
   "execution_count": 1,
   "id": "f133863c",
   "metadata": {
    "execution": {
     "iopub.execute_input": "2022-03-09T03:24:03.297920Z",
     "iopub.status.busy": "2022-03-09T03:24:03.291059Z",
     "iopub.status.idle": "2022-03-09T03:28:59.758746Z",
     "shell.execute_reply": "2022-03-09T03:28:59.758095Z",
     "shell.execute_reply.started": "2022-03-09T01:55:46.115773Z"
    },
    "papermill": {
     "duration": 296.505138,
     "end_time": "2022-03-09T03:28:59.758895",
     "exception": false,
     "start_time": "2022-03-09T03:24:03.253757",
     "status": "completed"
    },
    "tags": []
   },
   "outputs": [
    {
     "name": "stdout",
     "output_type": "stream",
     "text": [
      "Requirement already satisfied: torch in /opt/conda/lib/python3.7/site-packages (1.9.1)\r\n",
      "Collecting torch\r\n",
      "  Downloading torch-1.10.2-cp37-cp37m-manylinux1_x86_64.whl (881.9 MB)\r\n",
      "     |████████████████████████████████| 881.9 MB 1.3 kB/s             \r\n",
      "\u001b[?25hRequirement already satisfied: torchtext in /opt/conda/lib/python3.7/site-packages (0.10.1)\r\n",
      "Collecting torchtext\r\n",
      "  Downloading torchtext-0.11.2-cp37-cp37m-manylinux1_x86_64.whl (8.0 MB)\r\n",
      "     |████████████████████████████████| 8.0 MB 50.8 MB/s            \r\n",
      "\u001b[?25hRequirement already satisfied: torchaudio in /opt/conda/lib/python3.7/site-packages (0.9.1)\r\n",
      "Collecting torchaudio\r\n",
      "  Downloading torchaudio-0.10.2-cp37-cp37m-manylinux1_x86_64.whl (2.9 MB)\r\n",
      "     |████████████████████████████████| 2.9 MB 9.6 MB/s            \r\n",
      "\u001b[?25hRequirement already satisfied: typing-extensions in /opt/conda/lib/python3.7/site-packages (from torch) (4.1.1)\r\n",
      "Requirement already satisfied: tqdm in /opt/conda/lib/python3.7/site-packages (from torchtext) (4.62.3)\r\n",
      "Requirement already satisfied: requests in /opt/conda/lib/python3.7/site-packages (from torchtext) (2.26.0)\r\n",
      "Requirement already satisfied: numpy in /opt/conda/lib/python3.7/site-packages (from torchtext) (1.20.3)\r\n",
      "Requirement already satisfied: idna<4,>=2.5 in /opt/conda/lib/python3.7/site-packages (from requests->torchtext) (3.1)\r\n",
      "Requirement already satisfied: certifi>=2017.4.17 in /opt/conda/lib/python3.7/site-packages (from requests->torchtext) (2021.10.8)\r\n",
      "Requirement already satisfied: charset-normalizer~=2.0.0 in /opt/conda/lib/python3.7/site-packages (from requests->torchtext) (2.0.9)\r\n",
      "Requirement already satisfied: urllib3<1.27,>=1.21.1 in /opt/conda/lib/python3.7/site-packages (from requests->torchtext) (1.26.7)\r\n",
      "Installing collected packages: torch, torchtext, torchaudio\r\n",
      "  Attempting uninstall: torch\r\n",
      "    Found existing installation: torch 1.9.1\r\n",
      "    Uninstalling torch-1.9.1:\r\n",
      "      Successfully uninstalled torch-1.9.1\r\n",
      "  Attempting uninstall: torchtext\r\n",
      "    Found existing installation: torchtext 0.10.1\r\n",
      "    Uninstalling torchtext-0.10.1:\r\n",
      "      Successfully uninstalled torchtext-0.10.1\r\n",
      "  Attempting uninstall: torchaudio\r\n",
      "    Found existing installation: torchaudio 0.9.1\r\n",
      "    Uninstalling torchaudio-0.9.1:\r\n",
      "      Successfully uninstalled torchaudio-0.9.1\r\n",
      "Successfully installed torch-1.10.2 torchaudio-0.10.2 torchtext-0.11.2\r\n",
      "\u001b[33mWARNING: Running pip as the 'root' user can result in broken permissions and conflicting behaviour with the system package manager. It is recommended to use a virtual environment instead: https://pip.pypa.io/warnings/venv\u001b[0m\r\n",
      "Cloning into 'conformer'...\r\n",
      "remote: Enumerating objects: 435, done.\u001b[K\r\n",
      "remote: Counting objects: 100% (435/435), done.\u001b[K\r\n",
      "remote: Compressing objects: 100% (340/340), done.\u001b[K\r\n",
      "remote: Total 435 (delta 240), reused 222 (delta 95), pack-reused 0\u001b[K\r\n",
      "Receiving objects: 100% (435/435), 2.88 MiB | 27.08 MiB/s, done.\r\n",
      "Resolving deltas: 100% (240/240), done.\r\n",
      "Processing /kaggle/working/conformer\r\n",
      "  Preparing metadata (setup.py) ... \u001b[?25l-\b \bdone\r\n",
      "\u001b[?25hRequirement already satisfied: torch>=1.4.0 in /opt/conda/lib/python3.7/site-packages (from conformer===latest) (1.10.2)\r\n",
      "Requirement already satisfied: numpy in /opt/conda/lib/python3.7/site-packages (from conformer===latest) (1.20.3)\r\n",
      "Requirement already satisfied: typing-extensions in /opt/conda/lib/python3.7/site-packages (from torch>=1.4.0->conformer===latest) (4.1.1)\r\n",
      "Building wheels for collected packages: conformer\r\n",
      "  Building wheel for conformer (setup.py) ... \u001b[?25l-\b \b\\\b \bdone\r\n",
      "\u001b[?25h  Created wheel for conformer: filename=conformer-latest-py3-none-any.whl size=18360 sha256=dfd9d279b3112e06dea87b511894c3110068189922378fdf05d3eb2f5a74d590\r\n",
      "  Stored in directory: /tmp/pip-ephem-wheel-cache-1zo5kgij/wheels/03/5b/e8/aded86e4238b3ebaed5325927aa5dde35a90c5596a08be5de7\r\n",
      "\u001b[33m  WARNING: Built wheel for conformer is invalid: Metadata 1.2 mandates PEP 440 version, but 'latest' is not\u001b[0m\r\n",
      "Failed to build conformer\r\n",
      "Installing collected packages: conformer\r\n",
      "    Running setup.py install for conformer ... \u001b[?25l-\b \bdone\r\n",
      "\u001b[33m  DEPRECATION: conformer was installed using the legacy 'setup.py install' method, because a wheel could not be built for it. A possible replacement is to fix the wheel build issue reported above. Discussion can be found at https://github.com/pypa/pip/issues/8368\u001b[0m\r\n",
      "\u001b[?25hSuccessfully installed conformer-latest\r\n",
      "\u001b[33mWARNING: Running pip as the 'root' user can result in broken permissions and conflicting behaviour with the system package manager. It is recommended to use a virtual environment instead: https://pip.pypa.io/warnings/venv\u001b[0m\r\n",
      "Cloning into 'ctcdecode'...\r\n",
      "remote: Enumerating objects: 1102, done.\u001b[K\r\n",
      "remote: Counting objects: 100% (39/39), done.\u001b[K\r\n",
      "remote: Compressing objects: 100% (26/26), done.\u001b[K\r\n",
      "remote: Total 1102 (delta 16), reused 28 (delta 13), pack-reused 1063\u001b[K\r\n",
      "Receiving objects: 100% (1102/1102), 780.91 KiB | 12.59 MiB/s, done.\r\n",
      "Resolving deltas: 100% (529/529), done.\r\n",
      "Submodule 'third_party/ThreadPool' (https://github.com/progschj/ThreadPool.git) registered for path 'third_party/ThreadPool'\r\n",
      "Submodule 'third_party/kenlm' (https://github.com/kpu/kenlm.git) registered for path 'third_party/kenlm'\r\n",
      "Cloning into '/kaggle/working/ctcdecode/third_party/ThreadPool'...\r\n",
      "remote: Enumerating objects: 82, done.        \r\n",
      "remote: Total 82 (delta 0), reused 0 (delta 0), pack-reused 82        \r\n",
      "Cloning into '/kaggle/working/ctcdecode/third_party/kenlm'...\r\n",
      "remote: Enumerating objects: 14069, done.        \r\n",
      "remote: Counting objects: 100% (382/382), done.        \r\n",
      "remote: Compressing objects: 100% (309/309), done.        \r\n",
      "remote: Total 14069 (delta 115), reused 131 (delta 59), pack-reused 13687        \r\n",
      "Receiving objects: 100% (14069/14069), 5.76 MiB | 18.62 MiB/s, done.\r\n",
      "Resolving deltas: 100% (7995/7995), done.\r\n",
      "Submodule path 'third_party/ThreadPool': checked out '9a42ec1329f259a5f4881a291db1dcb8f2ad9040'\r\n",
      "Submodule path 'third_party/kenlm': checked out '35835f1ac4884126458ac89f9bf6dd9ccad561e0'\r\n",
      "Processing /kaggle/working/ctcdecode\r\n",
      "  Preparing metadata (setup.py) ... \u001b[?25l-\b \bdone\r\n",
      "\u001b[?25hBuilding wheels for collected packages: ctcdecode\r\n",
      "  Building wheel for ctcdecode (setup.py) ... \u001b[?25l-\b \b\\\b \b|\b \b/\b \b-\b \b\\\b \b|\b \b/\b \b-\b \b\\\b \b|\b \b/\b \b-\b \b\\\b \b|\b \b/\b \b-\b \b\\\b \b|\b \b/\b \b-\b \b\\\b \b|\b \b/\b \b-\b \b\\\b \b|\b \b/\b \b-\b \b\\\b \b|\b \b/\b \b-\b \b\\\b \b|\b \b/\b \b-\b \b\\\b \b|\b \b/\b \b-\b \b\\\b \b|\b \b/\b \b-\b \b\\\b \b|\b \b/\b \b-\b \b\\\b \b|\b \b/\b \b-\b \b\\\b \b|\b \b/\b \b-\b \b\\\b \b|\b \b/\b \b-\b \b\\\b \b|\b \b/\b \b-\b \b\\\b \b|\b \b/\b \b-\b \b\\\b \b|\b \b/\b \b-\b \b\\\b \b|\b \b/\b \b-\b \b\\\b \b|\b \b/\b \b-\b \b\\\b \b|\b \b/\b \b-\b \b\\\b \b|\b \b/\b \b-\b \b\\\b \b|\b \b/\b \b-\b \b\\\b \b|\b \b/\b \b-\b \b\\\b \b|\b \b/\b \b-\b \b\\\b \b|\b \b/\b \b-\b \b\\\b \b|\b \b/\b \b-\b \b\\\b \b|\b \b/\b \b-\b \b\\\b \b|\b \b/\b \b-\b \b\\\b \b|\b \b/\b \b-\b \b\\\b \b|\b \b/\b \b-\b \b\\\b \b|\b \b/\b \b-\b \b\\\b \b|\b \b/\b \b-\b \b\\\b \b|\b \b/\b \b-\b \b\\\b \b|\b \b/\b \b-\b \b\\\b \b|\b \b/\b \b-\b \b\\\b \b|\b \b/\b \b-\b \b\\\b \b|\b \b/\b \b-\b \b\\\b \b|\b \b/\b \b-\b \bdone\r\n",
      "\u001b[?25h  Created wheel for ctcdecode: filename=ctcdecode-1.0.3-cp37-cp37m-linux_x86_64.whl size=19191876 sha256=2d50391e8ba2fae3d96de3f41694f6372c836bd03edfb16f6bef0df7737b4e7b\r\n",
      "  Stored in directory: /tmp/pip-ephem-wheel-cache-2k6496v4/wheels/91/2c/20/ed58120de35c31265198bc25be9518ce9e2aa62ce2378e5e39\r\n",
      "Successfully built ctcdecode\r\n",
      "Installing collected packages: ctcdecode\r\n",
      "Successfully installed ctcdecode-1.0.3\r\n",
      "\u001b[33mWARNING: Running pip as the 'root' user can result in broken permissions and conflicting behaviour with the system package manager. It is recommended to use a virtual environment instead: https://pip.pypa.io/warnings/venv\u001b[0m\r\n"
     ]
    }
   ],
   "source": [
    "!pip install -U torch torchtext torchaudio\n",
    "\n",
    "!git clone https://github.com/sooftware/conformer.git\n",
    "!cd conformer && pip install .\n",
    "\n",
    "!git clone --recursive https://github.com/parlance/ctcdecode.git\n",
    "!cd ctcdecode && pip install ."
   ]
  },
  {
   "cell_type": "code",
   "execution_count": 2,
   "id": "cd82eac9",
   "metadata": {
    "_cell_guid": "b1076dfc-b9ad-4769-8c92-a6c4dae69d19",
    "_uuid": "8f2839f25d086af736a60e9eeb907d3b93b6e0e5",
    "execution": {
     "iopub.execute_input": "2022-03-09T03:29:00.539372Z",
     "iopub.status.busy": "2022-03-09T03:29:00.538806Z",
     "iopub.status.idle": "2022-03-09T03:29:03.325939Z",
     "shell.execute_reply": "2022-03-09T03:29:03.326316Z",
     "shell.execute_reply.started": "2022-03-09T02:00:55.209488Z"
    },
    "papermill": {
     "duration": 3.200262,
     "end_time": "2022-03-09T03:29:03.326462",
     "exception": false,
     "start_time": "2022-03-09T03:29:00.126200",
     "status": "completed"
    },
    "tags": []
   },
   "outputs": [
    {
     "name": "stdout",
     "output_type": "stream",
     "text": [
      "/kaggle/working\n"
     ]
    },
    {
     "data": {
      "text/plain": [
       "<torch.autograd.anomaly_mode.set_detect_anomaly at 0x7fd749544a10>"
      ]
     },
     "execution_count": 2,
     "metadata": {},
     "output_type": "execute_result"
    }
   ],
   "source": [
    "import os\n",
    "import pickle\n",
    "\n",
    "import torch\n",
    "import librosa\n",
    "import torchtext\n",
    "import torchaudio\n",
    "from torchaudio import transforms as T\n",
    "import numpy as np \n",
    "import pandas as pd\n",
    "import seaborn as sns\n",
    "from torch import nn\n",
    "from pathlib import Path\n",
    "import matplotlib.pyplot as plt\n",
    "from tqdm.notebook import tqdm\n",
    "from torch.nn.utils.rnn import pad_sequence\n",
    "from conformer import Conformer\n",
    "from typing import Tuple\n",
    "from functools import reduce\n",
    "import time\n",
    "from ctcdecode import CTCBeamDecoder\n",
    "\n",
    "cuda = torch.cuda.is_available()\n",
    "device = torch.device('cuda' if cuda else 'cpu')\n",
    "root_path = os.getcwd()\n",
    "print(root_path)\n",
    "\n",
    "torch.autograd.set_detect_anomaly(True)"
   ]
  },
  {
   "cell_type": "code",
   "execution_count": 3,
   "id": "6637147d",
   "metadata": {
    "execution": {
     "iopub.execute_input": "2022-03-09T03:29:04.052955Z",
     "iopub.status.busy": "2022-03-09T03:29:04.051975Z",
     "iopub.status.idle": "2022-03-09T03:29:04.053690Z",
     "shell.execute_reply": "2022-03-09T03:29:04.054110Z",
     "shell.execute_reply.started": "2022-03-09T02:00:57.876358Z"
    },
    "papermill": {
     "duration": 0.361239,
     "end_time": "2022-03-09T03:29:04.054255",
     "exception": false,
     "start_time": "2022-03-09T03:29:03.693016",
     "status": "completed"
    },
    "tags": []
   },
   "outputs": [],
   "source": [
    "spect_func = torchaudio.transforms.Spectrogram()"
   ]
  },
  {
   "cell_type": "code",
   "execution_count": 4,
   "id": "9aa132a6",
   "metadata": {
    "execution": {
     "iopub.execute_input": "2022-03-09T03:29:04.799972Z",
     "iopub.status.busy": "2022-03-09T03:29:04.799095Z",
     "iopub.status.idle": "2022-03-09T03:29:04.800591Z",
     "shell.execute_reply": "2022-03-09T03:29:04.801053Z",
     "shell.execute_reply.started": "2022-03-09T02:00:57.884606Z"
    },
    "papermill": {
     "duration": 0.396502,
     "end_time": "2022-03-09T03:29:04.801194",
     "exception": false,
     "start_time": "2022-03-09T03:29:04.404692",
     "status": "completed"
    },
    "tags": []
   },
   "outputs": [],
   "source": [
    "# class PseudoSubsampling(nn.Module):\n",
    "#     def __init__(self, kernel_size):\n",
    "#         self.conv = nn.Conv2d(kernel_size=kernel_size)\n",
    "#         self.fc = nn.Linear(..., 31)\n",
    "    \n",
    "#     def forward(self, x):\n",
    "#         x = self.conv(x)\n",
    "#         x = nn.ReLU(x)\n",
    "#         x = x.view(-1)\n",
    "        \n",
    "#         x = self.fc(x)\n",
    "#         x = torch.nn.functional.log_softmax(x, dim=-1)\n",
    "#         return x"
   ]
  },
  {
   "cell_type": "code",
   "execution_count": 5,
   "id": "090ca5e0",
   "metadata": {
    "execution": {
     "iopub.execute_input": "2022-03-09T03:29:05.544813Z",
     "iopub.status.busy": "2022-03-09T03:29:05.544021Z",
     "iopub.status.idle": "2022-03-09T03:29:05.546141Z",
     "shell.execute_reply": "2022-03-09T03:29:05.546660Z",
     "shell.execute_reply.started": "2022-03-09T02:00:57.895789Z"
    },
    "papermill": {
     "duration": 0.364337,
     "end_time": "2022-03-09T03:29:05.546807",
     "exception": false,
     "start_time": "2022-03-09T03:29:05.182470",
     "status": "completed"
    },
    "tags": []
   },
   "outputs": [],
   "source": [
    "class DataSubsampling(nn.Module):\n",
    "    '''\n",
    "    this class will downsample data\n",
    "    '''\n",
    "    def __init__(self, kernel_size):\n",
    "        super(DataSubsampling, self).__init__()\n",
    "        self.sequential = nn.Sequential(\n",
    "            nn.AvgPool2d(kernel_size=kernel_size),\n",
    "            nn.ReLU()\n",
    "        )\n",
    "    \n",
    "    def forward(self, x: torch.Tensor) -> torch.Tensor:\n",
    "        return self.sequential(x)\n",
    "\n",
    "data_subsampling = DataSubsampling(kernel_size=(2, 2))"
   ]
  },
  {
   "cell_type": "code",
   "execution_count": 6,
   "id": "988680ff",
   "metadata": {
    "execution": {
     "iopub.execute_input": "2022-03-09T03:29:06.267005Z",
     "iopub.status.busy": "2022-03-09T03:29:06.266390Z",
     "iopub.status.idle": "2022-03-09T03:29:06.269976Z",
     "shell.execute_reply": "2022-03-09T03:29:06.269476Z",
     "shell.execute_reply.started": "2022-03-09T02:00:57.906957Z"
    },
    "papermill": {
     "duration": 0.373442,
     "end_time": "2022-03-09T03:29:06.270092",
     "exception": false,
     "start_time": "2022-03-09T03:29:05.896650",
     "status": "completed"
    },
    "tags": []
   },
   "outputs": [],
   "source": [
    "def transform_audio(audio_pack):\n",
    "    '''\n",
    "        transform audio pack to spectrogram\n",
    "    '''\n",
    "    waveform, transcript = audio_pack\n",
    "    spectrogram = spect_func(waveform)\n",
    "    \n",
    "    # (channel, feature, timestep) -> (channel, timestep, feature)\n",
    "    spectrogram = spectrogram.permute(0, 2, 1)\n",
    "    \n",
    "    spectrogram_subsampled = data_subsampling(spectrogram)\n",
    "    spectrogram_subsampled = spectrogram_subsampled.squeeze()\n",
    "    \n",
    "    return spectrogram_subsampled, transcript\n",
    "\n",
    "def load_librispeech_item(fileid: str, path: str, ext_audio: str, ext_txt: str):\n",
    "    speaker_id, chapter_id, utterance_id = fileid.split(\"-\")\n",
    "\n",
    "    file_text = speaker_id + \"-\" + chapter_id + ext_txt\n",
    "    file_text = os.path.join(path, speaker_id, chapter_id, file_text)\n",
    "\n",
    "    fileid_audio = speaker_id + \"-\" + chapter_id + \"-\" + utterance_id\n",
    "    file_audio = fileid_audio + ext_audio\n",
    "    file_audio = os.path.join(path, speaker_id, chapter_id, file_audio)\n",
    "\n",
    "    # Load audio\n",
    "    waveform, sample_rate = torchaudio.load(file_audio)\n",
    "\n",
    "    # Load text\n",
    "    with open(file_text) as ft:\n",
    "        for line in ft:\n",
    "            fileid_text, transcript = line.strip().split(\" \", 1)\n",
    "            if fileid_audio == fileid_text:\n",
    "                break\n",
    "        else:\n",
    "            # Translation not found\n",
    "            raise FileNotFoundError(\"Translation not found for \" + fileid_audio)\n",
    "\n",
    "    return transform_audio((waveform, transcript))\n",
    "\n",
    "class LibriSpeechDataset(torch.utils.data.Dataset):\n",
    "    \n",
    "    _ext_txt = \".trans.txt\"\n",
    "    _ext_audio = \".flac\"\n",
    "    \n",
    "    def __init__(self, data_type='train'):\n",
    "        '''\n",
    "            data_type \\in ['train', 'dev', 'test']\n",
    "        '''\n",
    "        \n",
    "        clean_path = '../input/librispeech-clean/LibriSpeech/'\n",
    "        other_path = '../input/librispeech-500-hours/LibriSpeech/'\n",
    "        \n",
    "        self.list_url = [\n",
    "            clean_path + 'train-clean-100',\n",
    "            clean_path + 'train-clean-360',\n",
    "#             other_path + 'train-other-500'\n",
    "        ]\n",
    "        if data_type == 'dev':\n",
    "            self.list_url = [clean_path + 'dev-clean']\n",
    "        elif data_type == 'test':\n",
    "            self.list_url = [clean_path + 'test-clean']\n",
    "        \n",
    "        self._walker = []\n",
    "        for path in self.list_url:\n",
    "            walker = [(str(p.stem), path) for p in Path(path).glob('*/*/*' + self._ext_audio)]\n",
    "            self._walker.extend(walker)\n",
    "        self._walker = sorted(self._walker)\n",
    "    \n",
    "    def __len__(self):\n",
    "        return len(self._walker)\n",
    "\n",
    "    def __getitem__(self, n):\n",
    "        fileid, path = self._walker[n]\n",
    "        return load_librispeech_item(fileid, path, self._ext_audio, self._ext_txt)"
   ]
  },
  {
   "cell_type": "code",
   "execution_count": 7,
   "id": "42b90e9e",
   "metadata": {
    "execution": {
     "iopub.execute_input": "2022-03-09T03:29:06.998258Z",
     "iopub.status.busy": "2022-03-09T03:29:06.997623Z",
     "iopub.status.idle": "2022-03-09T03:29:42.694836Z",
     "shell.execute_reply": "2022-03-09T03:29:42.695340Z",
     "shell.execute_reply.started": "2022-03-09T02:00:57.92669Z"
    },
    "papermill": {
     "duration": 36.068313,
     "end_time": "2022-03-09T03:29:42.695497",
     "exception": false,
     "start_time": "2022-03-09T03:29:06.627184",
     "status": "completed"
    },
    "tags": []
   },
   "outputs": [
    {
     "data": {
      "text/plain": [
       "(132553, 2703, 2620)"
      ]
     },
     "execution_count": 7,
     "metadata": {},
     "output_type": "execute_result"
    }
   ],
   "source": [
    "train_set = LibriSpeechDataset('train')\n",
    "dev_set = LibriSpeechDataset('dev')\n",
    "test_set = LibriSpeechDataset('test')\n",
    "len(train_set), len(dev_set), len(test_set)"
   ]
  },
  {
   "cell_type": "code",
   "execution_count": 8,
   "id": "c2abd21a",
   "metadata": {
    "execution": {
     "iopub.execute_input": "2022-03-09T03:29:43.470446Z",
     "iopub.status.busy": "2022-03-09T03:29:43.469686Z",
     "iopub.status.idle": "2022-03-09T03:29:44.105312Z",
     "shell.execute_reply": "2022-03-09T03:29:44.104844Z",
     "shell.execute_reply.started": "2022-03-09T02:01:17.40163Z"
    },
    "papermill": {
     "duration": 1.027568,
     "end_time": "2022-03-09T03:29:44.105441",
     "exception": false,
     "start_time": "2022-03-09T03:29:43.077873",
     "status": "completed"
    },
    "tags": []
   },
   "outputs": [],
   "source": [
    "def padify(batch):\n",
    "    return (\n",
    "        pad_sequence([i[0] for i in batch], batch_first=True),\n",
    "        [i[1] for i in batch]\n",
    "    )\n",
    "\n",
    "batch_size = 32\n",
    "\n",
    "train_loader = torch.utils.data.DataLoader(train_set, batch_size=batch_size, collate_fn=padify, shuffle=True)\n",
    "dev_loader = torch.utils.data.DataLoader(dev_set, batch_size=batch_size, collate_fn=padify, shuffle=True)\n",
    "test_loader = torch.utils.data.DataLoader(test_set, batch_size=batch_size, collate_fn=padify, shuffle=True)\n",
    "\n",
    "# get a sample data\n",
    "it = iter(train_loader)\n",
    "sample, trans = next(it)"
   ]
  },
  {
   "cell_type": "code",
   "execution_count": 9,
   "id": "a296ced7",
   "metadata": {
    "execution": {
     "iopub.execute_input": "2022-03-09T03:29:44.829242Z",
     "iopub.status.busy": "2022-03-09T03:29:44.828600Z",
     "iopub.status.idle": "2022-03-09T03:29:44.909312Z",
     "shell.execute_reply": "2022-03-09T03:29:44.908736Z",
     "shell.execute_reply.started": "2022-03-09T02:01:18.096795Z"
    },
    "papermill": {
     "duration": 0.451227,
     "end_time": "2022-03-09T03:29:44.909448",
     "exception": false,
     "start_time": "2022-03-09T03:29:44.458221",
     "status": "completed"
    },
    "tags": []
   },
   "outputs": [
    {
     "name": "stdout",
     "output_type": "stream",
     "text": [
      "Alphabet: {'M': 1, 'X': 1, 'A': 1, 'Y': 1, 'F': 1, 'D': 1, \"'\": 1, 'K': 1, 'S': 1, 'R': 1, 'V': 1, 'H': 1, 'B': 1, 'J': 1, 'I': 1, ' ': 1, 'O': 1, 'Z': 1, 'L': 1, 'U': 1, 'P': 1, 'N': 1, 'W': 1, 'G': 1, 'T': 1, 'E': 1, 'Q': 1, 'C': 1}\n",
      "{'C': 30, 'M': 3, 'S': 11, 'E': 28, 'K': 10, 'J': 16, \"'\": 9, 'F': 7, 'T': 27, 'D': 8, 'Q': 29, 'Y': 6, 'V': 13, 'W': 25, ' ': 18, '<eos>': 2, 'R': 12, 'L': 21, 'P': 23, '<sos>': 1, 'U': 22, 'X': 4, '<pad>': 0, 'B': 15, 'H': 14, 'I': 17, 'O': 19, 'N': 24, 'A': 5, 'Z': 20, 'G': 26}\n",
      "n_class: 31\n"
     ]
    }
   ],
   "source": [
    "alphabet = pickle.load(open(\"../input/librispeech-alphabet/librispeech_alphabet.pkl\", \"rb\"))\n",
    "print(\"Alphabet:\", alphabet)\n",
    "\n",
    "vocab = torchtext.vocab.vocab(alphabet)\n",
    "vocab.insert_token('<pad>', 0) # don't have blank\n",
    "vocab.insert_token('<sos>', 1)\n",
    "vocab.insert_token('<eos>', 2)\n",
    "default_index = -1\n",
    "vocab.set_default_index(default_index)\n",
    "print(vocab.get_stoi())\n",
    "n_class = len(vocab)\n",
    "print(\"n_class:\", n_class)\n",
    "\n",
    "tokens = vocab.get_itos()\n",
    "\n",
    "def encode_string(pack):\n",
    "    try:\n",
    "        k = iter(pack)\n",
    "    except:\n",
    "        pack = (pack,)\n",
    "    return [torch.LongTensor([vocab[i] for i in s]) for s in pack]\n",
    "\n",
    "def decode_string(a):\n",
    "    try:\n",
    "        a = a.view(-1) # flatten\n",
    "    except:\n",
    "        pass\n",
    "    return ''.join([vocab.lookup_token(i) for i in a if (i > 0 and i < n_class)])"
   ]
  },
  {
   "cell_type": "code",
   "execution_count": 10,
   "id": "c1e9e65c",
   "metadata": {
    "execution": {
     "iopub.execute_input": "2022-03-09T03:29:45.681724Z",
     "iopub.status.busy": "2022-03-09T03:29:45.680721Z",
     "iopub.status.idle": "2022-03-09T03:29:45.687694Z",
     "shell.execute_reply": "2022-03-09T03:29:45.686971Z",
     "shell.execute_reply.started": "2022-03-09T02:01:18.186177Z"
    },
    "papermill": {
     "duration": 0.423193,
     "end_time": "2022-03-09T03:29:45.687856",
     "exception": false,
     "start_time": "2022-03-09T03:29:45.264663",
     "status": "completed"
    },
    "tags": []
   },
   "outputs": [],
   "source": [
    "def make_target(transcript, device):\n",
    "    encoded = encode_string(transcript)\n",
    "    target_length = torch.LongTensor([i.size(0) for i in encoded])\n",
    "    target = torch.nn.utils.rnn.pad_sequence(encoded)\n",
    "    return target.permute(1, 0).to(device), target_length.to(device)"
   ]
  },
  {
   "cell_type": "code",
   "execution_count": 11,
   "id": "94970034",
   "metadata": {
    "execution": {
     "iopub.execute_input": "2022-03-09T03:29:46.618957Z",
     "iopub.status.busy": "2022-03-09T03:29:46.618057Z",
     "iopub.status.idle": "2022-03-09T03:29:46.619895Z",
     "shell.execute_reply": "2022-03-09T03:29:46.620340Z",
     "shell.execute_reply.started": "2022-03-09T02:01:18.193991Z"
    },
    "papermill": {
     "duration": 0.366309,
     "end_time": "2022-03-09T03:29:46.620475",
     "exception": false,
     "start_time": "2022-03-09T03:29:46.254166",
     "status": "completed"
    },
    "tags": []
   },
   "outputs": [],
   "source": [
    "def make_input(specs, device):\n",
    "    '''\n",
    "        specs: (batch, time step, feature)\n",
    "    '''\n",
    "    batch, time_step, _ = specs.size()\n",
    "    input_length = torch.full(size=(batch,),\n",
    "                             fill_value=time_step, dtype=torch.long)\n",
    "    return specs.to(device), input_length.to(device)"
   ]
  },
  {
   "cell_type": "code",
   "execution_count": 12,
   "id": "ff6318ad",
   "metadata": {
    "execution": {
     "iopub.execute_input": "2022-03-09T03:29:47.339724Z",
     "iopub.status.busy": "2022-03-09T03:29:47.338705Z",
     "iopub.status.idle": "2022-03-09T03:29:47.340437Z",
     "shell.execute_reply": "2022-03-09T03:29:47.340862Z",
     "shell.execute_reply.started": "2022-03-09T02:01:18.205686Z"
    },
    "papermill": {
     "duration": 0.368777,
     "end_time": "2022-03-09T03:29:47.341000",
     "exception": false,
     "start_time": "2022-03-09T03:29:46.972223",
     "status": "completed"
    },
    "tags": []
   },
   "outputs": [],
   "source": [
    "def plot_spectrogram(list_spec, title=None, ylabel='freq_bin', aspect='auto', xmax=None, ymax=None):\n",
    "    fig, axs = plt.subplots(ncols=len(list_spec), figsize=(7 * len(list_spec), 5))\n",
    "    for i, (spec, name) in enumerate(list_spec):\n",
    "        axs[i].set_title(f'{name} Spectrogram (db)')\n",
    "        axs[i].set_ylabel(ylabel)\n",
    "        axs[i].set_xlabel('frame')\n",
    "        im = axs[i].imshow(librosa.power_to_db(spec), origin='lower', aspect=aspect)\n",
    "        if xmax:\n",
    "            axs[i].set_xlim((0, xmax))\n",
    "        if ymax:\n",
    "            axs[i].set_ylim((0, ymax))\n",
    "    fig.colorbar(im, ax=axs)\n",
    "    plt.show(block=False)"
   ]
  },
  {
   "cell_type": "code",
   "execution_count": 13,
   "id": "4ce76c23",
   "metadata": {
    "execution": {
     "iopub.execute_input": "2022-03-09T03:29:48.072189Z",
     "iopub.status.busy": "2022-03-09T03:29:48.071454Z",
     "iopub.status.idle": "2022-03-09T03:29:48.706627Z",
     "shell.execute_reply": "2022-03-09T03:29:48.706081Z",
     "shell.execute_reply.started": "2022-03-09T02:01:18.216487Z"
    },
    "papermill": {
     "duration": 1.012536,
     "end_time": "2022-03-09T03:29:48.706776",
     "exception": false,
     "start_time": "2022-03-09T03:29:47.694240",
     "status": "completed"
    },
    "tags": []
   },
   "outputs": [],
   "source": [
    "# get sample data\n",
    "k = iter(train_loader)\n",
    "dat, trans = next(k)\n",
    "spec, trans = train_set[0]"
   ]
  },
  {
   "cell_type": "code",
   "execution_count": 14,
   "id": "3bded4d8",
   "metadata": {
    "execution": {
     "iopub.execute_input": "2022-03-09T03:29:49.419934Z",
     "iopub.status.busy": "2022-03-09T03:29:49.419160Z",
     "iopub.status.idle": "2022-03-09T03:29:49.420861Z",
     "shell.execute_reply": "2022-03-09T03:29:49.420444Z",
     "shell.execute_reply.started": "2022-03-09T02:01:18.891594Z"
    },
    "papermill": {
     "duration": 0.360851,
     "end_time": "2022-03-09T03:29:49.420972",
     "exception": false,
     "start_time": "2022-03-09T03:29:49.060121",
     "status": "completed"
    },
    "tags": []
   },
   "outputs": [],
   "source": [
    "# plot_spectrogram([(spec, 'Origin'), (spec_subsampled, 'Subsampled')],\n",
    "#                  xmax=spec.size(1), ymax=spec.size(0))"
   ]
  },
  {
   "cell_type": "code",
   "execution_count": 15,
   "id": "e1d8c706",
   "metadata": {
    "execution": {
     "iopub.execute_input": "2022-03-09T03:29:50.137703Z",
     "iopub.status.busy": "2022-03-09T03:29:50.137013Z",
     "iopub.status.idle": "2022-03-09T03:29:50.138643Z",
     "shell.execute_reply": "2022-03-09T03:29:50.138185Z",
     "shell.execute_reply.started": "2022-03-09T02:01:18.896884Z"
    },
    "papermill": {
     "duration": 0.366534,
     "end_time": "2022-03-09T03:29:50.138763",
     "exception": false,
     "start_time": "2022-03-09T03:29:49.772229",
     "status": "completed"
    },
    "tags": []
   },
   "outputs": [],
   "source": [
    "# class SpecAug(nn.Module):\n",
    "#     def __init__(self,\n",
    "#                  freq_mask: int = 27,\n",
    "#                  time_mask_ratio: float = 0.05,\n",
    "#                  n_mask: int = 10):\n",
    "#         super(SpecAug, self).__init__()\n",
    "#         self.freq_mask = freq_mask\n",
    "#         self.time_mask_ratio = time_mask_ratio\n",
    "#         self.n_mask = 10\n",
    "    \n",
    "#     def forward(self, x: torch.Tensor):\n",
    "#         '''\n",
    "#             x: (batch, timestep, feature)\n",
    "#             x: (timestep, feature)\n",
    "#         '''\n",
    "#         time_step = x.size(0)\n",
    "#         if len(x.size()) == 3:\n",
    "#             time_step = x.size(1) \n",
    "#         x = T.FrequencyMasking(self.freq_mask)(x)\n",
    "    \n",
    "#         max_time_masking = round(self.time_mask_ratio * time_step)\n",
    "        \n",
    "#         time_masking = T.TimeMasking(max_time_masking)\n",
    "# #         x = reduce(lambda x, y: y(x), [time_masking] * self.n_mask, x) # note lại chỗ này\n",
    "#         x = time_masking(x)\n",
    "#         return x"
   ]
  },
  {
   "cell_type": "code",
   "execution_count": 16,
   "id": "190fab8c",
   "metadata": {
    "execution": {
     "iopub.execute_input": "2022-03-09T03:29:50.857295Z",
     "iopub.status.busy": "2022-03-09T03:29:50.855605Z",
     "iopub.status.idle": "2022-03-09T03:29:50.857981Z",
     "shell.execute_reply": "2022-03-09T03:29:50.858382Z",
     "shell.execute_reply.started": "2022-03-09T02:01:18.907263Z"
    },
    "papermill": {
     "duration": 0.367003,
     "end_time": "2022-03-09T03:29:50.858513",
     "exception": false,
     "start_time": "2022-03-09T03:29:50.491510",
     "status": "completed"
    },
    "tags": []
   },
   "outputs": [],
   "source": [
    "class ConformerCTC(nn.Module):\n",
    "    def __init__(self,\n",
    "#                  freq_mask: int = 27,\n",
    "#                  time_mask_ratio: float = 0.05,\n",
    "                 **kwargs):\n",
    "        super(ConformerCTC, self).__init__()\n",
    "#         self.spec_aug = SpecAug(freq_mask, time_mask_ratio)\n",
    "        self.encoder = Conformer(**kwargs)\n",
    "    \n",
    "    def forward(self,\n",
    "                inputs: torch.Tensor,\n",
    "                input_length: torch.Tensor\n",
    "               ) -> Tuple[torch.Tensor, torch.Tensor]:\n",
    "#         inputs = self.spec_aug(inputs)\n",
    "        outputs, output_lengths = self.encoder(inputs, input_length)\n",
    "        return outputs, output_lengths"
   ]
  },
  {
   "cell_type": "code",
   "execution_count": 17,
   "id": "db8c9f5c",
   "metadata": {
    "execution": {
     "iopub.execute_input": "2022-03-09T03:29:51.574062Z",
     "iopub.status.busy": "2022-03-09T03:29:51.573119Z",
     "iopub.status.idle": "2022-03-09T03:29:51.575024Z",
     "shell.execute_reply": "2022-03-09T03:29:51.574541Z",
     "shell.execute_reply.started": "2022-03-09T02:01:18.921255Z"
    },
    "papermill": {
     "duration": 0.364241,
     "end_time": "2022-03-09T03:29:51.575137",
     "exception": false,
     "start_time": "2022-03-09T03:29:51.210896",
     "status": "completed"
    },
    "tags": []
   },
   "outputs": [],
   "source": [
    "import torch\n",
    "import matplotlib.pyplot as plt\n",
    "import numpy as np"
   ]
  },
  {
   "cell_type": "code",
   "execution_count": 18,
   "id": "69f64784",
   "metadata": {
    "execution": {
     "iopub.execute_input": "2022-03-09T03:29:52.288455Z",
     "iopub.status.busy": "2022-03-09T03:29:52.287610Z",
     "iopub.status.idle": "2022-03-09T03:29:57.923275Z",
     "shell.execute_reply": "2022-03-09T03:29:57.923792Z",
     "shell.execute_reply.started": "2022-03-09T02:01:18.928852Z"
    },
    "papermill": {
     "duration": 5.996511,
     "end_time": "2022-03-09T03:29:57.923993",
     "exception": false,
     "start_time": "2022-03-09T03:29:51.927482",
     "status": "completed"
    },
    "tags": []
   },
   "outputs": [],
   "source": [
    "# Load state dict\n",
    "checkpoint = torch.load('../input/conformer-ctc-model/conformer_ctc_subsampling.state')"
   ]
  },
  {
   "cell_type": "code",
   "execution_count": 19,
   "id": "53d5c3d2",
   "metadata": {
    "execution": {
     "iopub.execute_input": "2022-03-09T03:29:58.638036Z",
     "iopub.status.busy": "2022-03-09T03:29:58.637127Z",
     "iopub.status.idle": "2022-03-09T03:29:58.861118Z",
     "shell.execute_reply": "2022-03-09T03:29:58.861480Z",
     "shell.execute_reply.started": "2022-03-09T02:01:23.745242Z"
    },
    "papermill": {
     "duration": 0.58024,
     "end_time": "2022-03-09T03:29:58.861639",
     "exception": false,
     "start_time": "2022-03-09T03:29:58.281399",
     "status": "completed"
    },
    "tags": []
   },
   "outputs": [
    {
     "data": {
      "image/png": "[encoded data removed]",
      "text/plain": [
       "<Figure size 432x288 with 1 Axes>"
      ]
     },
     "metadata": {
      "needs_background": "light"
     },
     "output_type": "display_data"
    }
   ],
   "source": [
    "x = np.arange(len(checkpoint['loss_history'])) + 1\n",
    "plt.plot(x, checkpoint['loss_history'])\n",
    "plt.xticks(x, x)\n",
    "plt.xlabel('Epochs', fontsize=12)\n",
    "plt.ylabel('Sum loss', fontsize=12)\n",
    "plt.grid(True, alpha=0.5, ls='-.')\n",
    "plt.show()"
   ]
  },
  {
   "cell_type": "code",
   "execution_count": 20,
   "id": "4c80f85e",
   "metadata": {
    "execution": {
     "iopub.execute_input": "2022-03-09T03:29:59.610879Z",
     "iopub.status.busy": "2022-03-09T03:29:59.610109Z",
     "iopub.status.idle": "2022-03-09T03:30:00.073356Z",
     "shell.execute_reply": "2022-03-09T03:30:00.072772Z",
     "shell.execute_reply.started": "2022-03-09T02:01:23.986467Z"
    },
    "papermill": {
     "duration": 0.842672,
     "end_time": "2022-03-09T03:30:00.073496",
     "exception": false,
     "start_time": "2022-03-09T03:29:59.230824",
     "status": "completed"
    },
    "tags": []
   },
   "outputs": [
    {
     "data": {
      "text/plain": [
       "<All keys matched successfully>"
      ]
     },
     "execution_count": 20,
     "metadata": {},
     "output_type": "execute_result"
    }
   ],
   "source": [
    "# Conformer size S (small)\n",
    "hyp = dict(\n",
    "    num_classes=n_class,\n",
    "    input_dim=spec.size(-1),\n",
    "    encoder_dim=144,\n",
    "    num_encoder_layers=16,\n",
    "    num_attention_heads=4,\n",
    "    conv_kernel_size=31\n",
    ")\n",
    "\n",
    "# freq_mask=27, time_mask_ratio=0.05, \n",
    "model = ConformerCTC(**hyp).to(device)\n",
    "model.load_state_dict(checkpoint['model_state_dict'])"
   ]
  },
  {
   "cell_type": "code",
   "execution_count": 21,
   "id": "f531ad86",
   "metadata": {
    "execution": {
     "iopub.execute_input": "2022-03-09T03:30:00.822014Z",
     "iopub.status.busy": "2022-03-09T03:30:00.821107Z",
     "iopub.status.idle": "2022-03-09T03:30:00.898799Z",
     "shell.execute_reply": "2022-03-09T03:30:00.898323Z",
     "shell.execute_reply.started": "2022-03-09T02:01:24.461165Z"
    },
    "papermill": {
     "duration": 0.449422,
     "end_time": "2022-03-09T03:30:00.898925",
     "exception": false,
     "start_time": "2022-03-09T03:30:00.449503",
     "status": "completed"
    },
    "tags": []
   },
   "outputs": [],
   "source": [
    "n_iters = 15\n",
    "optimizer = torch.optim.Adam(model.parameters(), betas=(0.9, 0.98), lr=0.001,\n",
    "                             eps=1e-9, weight_decay=1e-6)\n",
    "optimizer.load_state_dict(checkpoint['optimizer_state_dict'])\n",
    "scheduler = torch.optim.lr_scheduler.LinearLR(optimizer, total_iters=n_iters)\n",
    "scheduler.load_state_dict(checkpoint['scheduler_state_dict'])\n",
    "cal_loss = nn.CTCLoss(zero_infinity=True).to(device)"
   ]
  },
  {
   "cell_type": "code",
   "execution_count": 22,
   "id": "af2c213b",
   "metadata": {
    "execution": {
     "iopub.execute_input": "2022-03-09T03:32:01.720414Z",
     "iopub.status.busy": "2022-03-09T03:32:01.352019Z",
     "iopub.status.idle": "2022-03-09T03:32:01.722701Z",
     "shell.execute_reply": "2022-03-09T03:32:01.721000Z",
     "shell.execute_reply.started": "2022-03-09T02:01:24.548792Z"
    },
    "papermill": {
     "duration": 120.472821,
     "end_time": "2022-03-09T03:32:01.722842",
     "exception": false,
     "start_time": "2022-03-09T03:30:01.250021",
     "status": "completed"
    },
    "tags": []
   },
   "outputs": [
    {
     "name": "stderr",
     "output_type": "stream",
     "text": [
      "Loading the LM will be faster if you build a binary file.\n",
      "Reading ../input/librispeech-4gram-language-model/4-gram.arpa\n",
      "----5---10---15---20---25---30---35---40---45---50---55---60---65---70---75---80---85---90---95--100\n",
      "****************************************************************************************************\n"
     ]
    }
   ],
   "source": [
    "# define decoder\n",
    "ken_lm_path = '../input/librispeech-4gram-language-model/4-gram.arpa'\n",
    "\n",
    "decoder = CTCBeamDecoder(\n",
    "    tokens,\n",
    "    model_path=ken_lm_path,\n",
    "    alpha=12,\n",
    "    beta=5,\n",
    "    cutoff_top_n=50,\n",
    "    cutoff_prob=1.0,\n",
    "    beam_width=10,\n",
    "    num_processes=4,\n",
    "    blank_id=0,\n",
    "    log_probs_input=True\n",
    ")"
   ]
  },
  {
   "cell_type": "code",
   "execution_count": 23,
   "id": "725d0bd5",
   "metadata": {
    "execution": {
     "iopub.execute_input": "2022-03-09T03:32:02.435254Z",
     "iopub.status.busy": "2022-03-09T03:32:02.434447Z",
     "iopub.status.idle": "2022-03-09T03:32:02.447150Z",
     "shell.execute_reply": "2022-03-09T03:32:02.446680Z",
     "shell.execute_reply.started": "2022-03-09T02:03:36.119563Z"
    },
    "papermill": {
     "duration": 0.37365,
     "end_time": "2022-03-09T03:32:02.447259",
     "exception": false,
     "start_time": "2022-03-09T03:32:02.073609",
     "status": "completed"
    },
    "tags": []
   },
   "outputs": [],
   "source": [
    "def train_epoch(model, optimizer, cal_loss, scheduler, data_loader, epoch):\n",
    "    size = len(data_loader.dataset)\n",
    "    model.train()\n",
    "    start_time = time.perf_counter()\n",
    "    sum_loss = 0\n",
    "    for batch_idx, (specs, trans) in tqdm(enumerate(data_loader)):\n",
    "        inputs, input_lengths = make_input(specs, device)\n",
    "        targets, target_lengths = make_target(trans, device)\n",
    "\n",
    "        optimizer.zero_grad()\n",
    "        \n",
    "        outputs, output_lengths = model(inputs, input_lengths)\n",
    "        outputs = outputs.permute(1, 0, 2)\n",
    "        \n",
    "        loss = cal_loss(outputs, targets, output_lengths, target_lengths)\n",
    "\n",
    "        loss.backward()\n",
    "        optimizer.step()\n",
    "        \n",
    "        loss, current = loss.item(), batch_idx * len(specs)\n",
    "        sum_loss += loss\n",
    "        \n",
    "        if batch_idx % 100 == 0 or current // size == 100:\n",
    "            print(f\"[Epoch: {epoch + 1}] = loss: {loss:>7f} [{current:>5d}/{size:>5d} ({round(current/size * 100)}%)] [{round(time.perf_counter() - start_time, 2):>6}s]\")\n",
    "        \n",
    "    scheduler.step()\n",
    "    return sum_loss"
   ]
  },
  {
   "cell_type": "code",
   "execution_count": 24,
   "id": "5f71b233",
   "metadata": {
    "execution": {
     "iopub.execute_input": "2022-03-09T03:32:03.214461Z",
     "iopub.status.busy": "2022-03-09T03:32:03.195702Z",
     "iopub.status.idle": "2022-03-09T03:32:03.586709Z",
     "shell.execute_reply": "2022-03-09T03:32:03.586174Z",
     "shell.execute_reply.started": "2022-03-09T02:03:36.137953Z"
    },
    "papermill": {
     "duration": 0.774337,
     "end_time": "2022-03-09T03:32:03.586860",
     "exception": false,
     "start_time": "2022-03-09T03:32:02.812523",
     "status": "completed"
    },
    "tags": []
   },
   "outputs": [
    {
     "data": {
      "image/png": "[encoded data removed]",
      "text/plain": [
       "<Figure size 1008x360 with 3 Axes>"
      ]
     },
     "metadata": {
      "needs_background": "light"
     },
     "output_type": "display_data"
    }
   ],
   "source": [
    "plot_spectrogram([(spec, 'Origin'), (spec, 'Subsampled')],\n",
    "                 xmax=spec.size(1), ymax=spec.size(0))"
   ]
  },
  {
   "cell_type": "code",
   "execution_count": 25,
   "id": "9e72e735",
   "metadata": {
    "execution": {
     "iopub.execute_input": "2022-03-09T03:32:04.321588Z",
     "iopub.status.busy": "2022-03-09T03:32:04.320722Z",
     "iopub.status.idle": "2022-03-09T03:32:04.322632Z",
     "shell.execute_reply": "2022-03-09T03:32:04.323043Z",
     "shell.execute_reply.started": "2022-03-09T02:03:36.559078Z"
    },
    "papermill": {
     "duration": 0.372085,
     "end_time": "2022-03-09T03:32:04.323178",
     "exception": false,
     "start_time": "2022-03-09T03:32:03.951093",
     "status": "completed"
    },
    "tags": []
   },
   "outputs": [],
   "source": [
    "cal_wer = torchaudio.functional.edit_distance\n",
    "\n",
    "def eval_epoch(model, cal_loss, data_loader, epoch):\n",
    "    size = len(data_loader.dataset)\n",
    "    model.eval()\n",
    "    sum_loss = 0\n",
    "    sum_wer = 0\n",
    "    start_time = time.perf_counter()\n",
    "    with torch.no_grad():\n",
    "        for batch_idx, (specs, trans) in tqdm(enumerate(data_loader)):\n",
    "            inputs, input_lengths = make_input(specs, device)\n",
    "            targets, target_lengths = make_target(trans, device)\n",
    "\n",
    "            outputs, output_lengths = model(inputs, input_lengths)\n",
    "            outputs = outputs.permute(1, 0, 2)\n",
    "            loss = cal_loss(outputs, targets, output_lengths, target_lengths)\n",
    "            \n",
    "            outputs = outputs.permute(1, 0, 2)\n",
    "            beam_results, beam_scores, timesteps, out_lens = decoder.decode(outputs)\n",
    "            \n",
    "            wer = 0\n",
    "            beam_idx = 0 # default\n",
    "            for idx, datum in enumerate(beam_results): # loop for each batch size\n",
    "                decode_data = datum[beam_idx][:out_lens[0][0]]\n",
    "                decode_result = decode_string(decode_data)\n",
    "                \n",
    "                wer += cal_wer(trans[idx], decode_result) / len(trans[idx]) * 100\n",
    "                \n",
    "            wer /= batch_size\n",
    "            \n",
    "            loss, current = loss.item(), batch_idx * len(specs)\n",
    "            \n",
    "            sum_loss += loss\n",
    "            sum_wer += wer\n",
    "            \n",
    "            if batch_idx % 100 == 0 or current // size == 100:\n",
    "                print(f\"[Epoch: {epoch + 1}] | Loss: {loss:>7f} [{current:>5d}/{size:>5d} ({round(current/size * 100)}%)], Mean Wer: {wer:.2f}% [{round(time.perf_counter() - start_time, 2):>6}s]\")\n",
    "            \n",
    "    return dict(\n",
    "        loss=sum_loss / size,\n",
    "        wer=sum_wer / size\n",
    "    )"
   ]
  },
  {
   "cell_type": "markdown",
   "id": "66f8e6cf",
   "metadata": {
    "papermill": {
     "duration": 0.384599,
     "end_time": "2022-03-09T03:32:05.075705",
     "exception": false,
     "start_time": "2022-03-09T03:32:04.691106",
     "status": "completed"
    },
    "tags": []
   },
   "source": [
    "- Train khoảng 20 epoch đầu không validate\n",
    "- Từ epoch 20 trở đi thì sẽ validate"
   ]
  },
  {
   "cell_type": "code",
   "execution_count": 26,
   "id": "0bd4088f",
   "metadata": {
    "execution": {
     "iopub.execute_input": "2022-03-09T03:32:05.840205Z",
     "iopub.status.busy": "2022-03-09T03:32:05.839310Z",
     "iopub.status.idle": "2022-03-09T03:32:05.874109Z",
     "shell.execute_reply": "2022-03-09T03:32:05.870300Z",
     "shell.execute_reply.started": "2022-03-09T02:03:36.742202Z"
    },
    "papermill": {
     "duration": 0.402433,
     "end_time": "2022-03-09T03:32:05.874232",
     "exception": false,
     "start_time": "2022-03-09T03:32:05.471799",
     "status": "completed"
    },
    "tags": []
   },
   "outputs": [
    {
     "data": {
      "application/vnd.jupyter.widget-view+json": {
       "model_id": "6ff830f06a14475793819771c953170a",
       "version_major": 2,
       "version_minor": 0
      },
      "text/plain": [
       "0it [00:00, ?it/s]"
      ]
     },
     "metadata": {},
     "output_type": "display_data"
    }
   ],
   "source": [
    "loss_history = checkpoint['loss_history']\n",
    "# loss_history = []\n",
    "mean_wer_history = checkpoint['mean_wer_history']\n",
    "# mean_wer_history = []\n",
    "min_check_val = 20\n",
    "\n",
    "start_epoch = checkpoint['epoch']\n",
    "# start_epoch = -1\n",
    "\n",
    "for it in tqdm(range(start_epoch + 1, n_iters)):\n",
    "    print(f\"Epoch {it} \" + \"-\" * 30)\n",
    "    loss = train_epoch(model, optimizer, cal_loss, scheduler, train_loader, it)\n",
    "    loss_history.append(loss)\n",
    "    \n",
    "    if it == min_check_val:\n",
    "        _, mean_wer = eval_epoch(model, cal_loss, dev_loader, it)\n",
    "        mean_wer_history.append(mean_wer)\n",
    "    \n",
    "    # save each epochs\n",
    "    torch.save(dict(\n",
    "        epoch=it,\n",
    "        model_state_dict=model.state_dict(),\n",
    "        optimizer_state_dict=optimizer.state_dict(),\n",
    "        scheduler_state_dict=scheduler.state_dict(),\n",
    "        loss_history=loss_history,\n",
    "        mean_wer_history=mean_wer_history\n",
    "    ), root_path + '/conformer_ctc_subsampling.state')"
   ]
  },
  {
   "cell_type": "code",
   "execution_count": 27,
   "id": "4b681c06",
   "metadata": {
    "execution": {
     "iopub.execute_input": "2022-03-09T03:32:06.601351Z",
     "iopub.status.busy": "2022-03-09T03:32:06.600522Z",
     "iopub.status.idle": "2022-03-09T04:19:43.988312Z",
     "shell.execute_reply": "2022-03-09T04:19:43.988878Z",
     "shell.execute_reply.started": "2022-03-09T02:03:36.75603Z"
    },
    "papermill": {
     "duration": 2857.759846,
     "end_time": "2022-03-09T04:19:43.989048",
     "exception": false,
     "start_time": "2022-03-09T03:32:06.229202",
     "status": "completed"
    },
    "tags": []
   },
   "outputs": [
    {
     "data": {
      "application/vnd.jupyter.widget-view+json": {
       "model_id": "72d29b6f7c1a41f39add808d283d0001",
       "version_major": 2,
       "version_minor": 0
      },
      "text/plain": [
       "0it [00:00, ?it/s]"
      ]
     },
     "metadata": {},
     "output_type": "display_data"
    },
    {
     "name": "stdout",
     "output_type": "stream",
     "text": [
      "[Epoch: 1] | Loss: 0.877130 [    0/132553 (0%)], Mean Wer: 96.02% [  1.13s]\n",
      "[Epoch: 1] | Loss: 0.623616 [ 3200/132553 (2%)], Mean Wer: 98.85% [ 77.91s]\n",
      "[Epoch: 1] | Loss: 1.017302 [ 6400/132553 (5%)], Mean Wer: 95.98% [147.76s]\n",
      "[Epoch: 1] | Loss: 1.242463 [ 9600/132553 (7%)], Mean Wer: 95.88% [216.41s]\n",
      "[Epoch: 1] | Loss: 0.887675 [12800/132553 (10%)], Mean Wer: 98.45% [283.54s]\n",
      "[Epoch: 1] | Loss: 1.316156 [16000/132553 (12%)], Mean Wer: 98.63% [351.74s]\n",
      "[Epoch: 1] | Loss: 0.788274 [19200/132553 (14%)], Mean Wer: 96.91% [420.07s]\n",
      "[Epoch: 1] | Loss: 0.859461 [22400/132553 (17%)], Mean Wer: 98.03% [ 489.0s]\n",
      "[Epoch: 1] | Loss: 0.689722 [25600/132553 (19%)], Mean Wer: 97.32% [557.04s]\n",
      "[Epoch: 1] | Loss: 0.990593 [28800/132553 (22%)], Mean Wer: 98.59% [624.86s]\n",
      "[Epoch: 1] | Loss: 0.465318 [32000/132553 (24%)], Mean Wer: 97.01% [693.22s]\n",
      "[Epoch: 1] | Loss: 0.445197 [35200/132553 (27%)], Mean Wer: 96.89% [761.98s]\n",
      "[Epoch: 1] | Loss: 0.967236 [38400/132553 (29%)], Mean Wer: 95.86% [829.55s]\n",
      "[Epoch: 1] | Loss: 0.389578 [41600/132553 (31%)], Mean Wer: 96.86% [899.04s]\n",
      "[Epoch: 1] | Loss: 0.893956 [44800/132553 (34%)], Mean Wer: 95.80% [967.82s]\n",
      "[Epoch: 1] | Loss: 0.911190 [48000/132553 (36%)], Mean Wer: 97.24% [1040.47s]\n",
      "[Epoch: 1] | Loss: 0.966881 [51200/132553 (39%)], Mean Wer: 98.62% [1112.58s]\n",
      "[Epoch: 1] | Loss: 0.279356 [54400/132553 (41%)], Mean Wer: 98.81% [1183.76s]\n",
      "[Epoch: 1] | Loss: 0.910442 [57600/132553 (43%)], Mean Wer: 96.39% [1252.21s]\n",
      "[Epoch: 1] | Loss: 0.446808 [60800/132553 (46%)], Mean Wer: 98.91% [1320.91s]\n",
      "[Epoch: 1] | Loss: 0.896350 [64000/132553 (48%)], Mean Wer: 95.78% [1387.98s]\n",
      "[Epoch: 1] | Loss: 1.166308 [67200/132553 (51%)], Mean Wer: 96.19% [1454.71s]\n",
      "[Epoch: 1] | Loss: 1.247590 [70400/132553 (53%)], Mean Wer: 95.53% [1521.69s]\n",
      "[Epoch: 1] | Loss: 0.658883 [73600/132553 (56%)], Mean Wer: 98.83% [1590.2s]\n",
      "[Epoch: 1] | Loss: 0.794080 [76800/132553 (58%)], Mean Wer: 97.22% [1658.17s]\n",
      "[Epoch: 1] | Loss: 0.921392 [80000/132553 (60%)], Mean Wer: 96.89% [1726.0s]\n",
      "[Epoch: 1] | Loss: 0.618271 [83200/132553 (63%)], Mean Wer: 96.27% [1794.22s]\n",
      "[Epoch: 1] | Loss: 0.617009 [86400/132553 (65%)], Mean Wer: 97.08% [1863.64s]\n",
      "[Epoch: 1] | Loss: 0.812707 [89600/132553 (68%)], Mean Wer: 95.70% [1932.59s]\n",
      "[Epoch: 1] | Loss: 0.768439 [92800/132553 (70%)], Mean Wer: 98.68% [2005.8s]\n",
      "[Epoch: 1] | Loss: 0.876397 [96000/132553 (72%)], Mean Wer: 96.62% [2079.59s]\n",
      "[Epoch: 1] | Loss: 0.606915 [99200/132553 (75%)], Mean Wer: 96.54% [2149.22s]\n",
      "[Epoch: 1] | Loss: 1.000032 [102400/132553 (77%)], Mean Wer: 95.99% [2218.66s]\n",
      "[Epoch: 1] | Loss: 0.598605 [105600/132553 (80%)], Mean Wer: 98.76% [2293.19s]\n",
      "[Epoch: 1] | Loss: 1.096216 [108800/132553 (82%)], Mean Wer: 97.21% [2360.87s]\n",
      "[Epoch: 1] | Loss: 1.106819 [112000/132553 (84%)], Mean Wer: 98.73% [2428.25s]\n",
      "[Epoch: 1] | Loss: 0.648944 [115200/132553 (87%)], Mean Wer: 97.02% [2494.86s]\n",
      "[Epoch: 1] | Loss: 0.846995 [118400/132553 (89%)], Mean Wer: 98.78% [2561.42s]\n",
      "[Epoch: 1] | Loss: 0.835480 [121600/132553 (92%)], Mean Wer: 98.44% [2628.91s]\n",
      "[Epoch: 1] | Loss: 0.761030 [124800/132553 (94%)], Mean Wer: 97.86% [2695.31s]\n",
      "[Epoch: 1] | Loss: 1.007262 [128000/132553 (97%)], Mean Wer: 96.79% [2762.63s]\n",
      "[Epoch: 1] | Loss: 0.445720 [131200/132553 (99%)], Mean Wer: 97.20% [2829.72s]\n"
     ]
    },
    {
     "data": {
      "text/plain": [
       "{'loss': 0.026043714021196672, 'wer': 3.033952249358126}"
      ]
     },
     "execution_count": 27,
     "metadata": {},
     "output_type": "execute_result"
    }
   ],
   "source": [
    "eval_epoch(model, cal_loss, train_loader, 0)"
   ]
  },
  {
   "cell_type": "code",
   "execution_count": 28,
   "id": "93fee84e",
   "metadata": {
    "execution": {
     "iopub.execute_input": "2022-03-09T04:19:44.758196Z",
     "iopub.status.busy": "2022-03-09T04:19:44.736151Z",
     "iopub.status.idle": "2022-03-09T04:20:33.475533Z",
     "shell.execute_reply": "2022-03-09T04:20:33.475124Z",
     "shell.execute_reply.started": "2022-03-09T02:51:31.982834Z"
    },
    "papermill": {
     "duration": 49.119877,
     "end_time": "2022-03-09T04:20:33.475697",
     "exception": false,
     "start_time": "2022-03-09T04:19:44.355820",
     "status": "completed"
    },
    "tags": []
   },
   "outputs": [
    {
     "data": {
      "application/vnd.jupyter.widget-view+json": {
       "model_id": "dac084df7cb5459d986cf27b32e1c8d6",
       "version_major": 2,
       "version_minor": 0
      },
      "text/plain": [
       "0it [00:00, ?it/s]"
      ]
     },
     "metadata": {},
     "output_type": "display_data"
    },
    {
     "name": "stdout",
     "output_type": "stream",
     "text": [
      "[Epoch: 1] | Loss: 3.092308 [    0/ 2703 (0%)], Mean Wer: 95.87% [  0.73s]\n"
     ]
    },
    {
     "data": {
      "text/plain": [
       "{'loss': 0.09018402526522407, 'wer': 3.0104857709890624}"
      ]
     },
     "execution_count": 28,
     "metadata": {},
     "output_type": "execute_result"
    }
   ],
   "source": [
    "eval_epoch(model, cal_loss, dev_loader, 0)"
   ]
  },
  {
   "cell_type": "code",
   "execution_count": 29,
   "id": "7042051f",
   "metadata": {
    "execution": {
     "iopub.execute_input": "2022-03-09T04:20:34.255709Z",
     "iopub.status.busy": "2022-03-09T04:20:34.255098Z",
     "iopub.status.idle": "2022-03-09T04:21:22.091570Z",
     "shell.execute_reply": "2022-03-09T04:21:22.091130Z",
     "shell.execute_reply.started": "2022-03-09T02:53:29.003936Z"
    },
    "papermill": {
     "duration": 48.216558,
     "end_time": "2022-03-09T04:21:22.091713",
     "exception": false,
     "start_time": "2022-03-09T04:20:33.875155",
     "status": "completed"
    },
    "tags": []
   },
   "outputs": [
    {
     "data": {
      "application/vnd.jupyter.widget-view+json": {
       "model_id": "c515f5a16d1e4a67b20619a8b55a6fd3",
       "version_major": 2,
       "version_minor": 0
      },
      "text/plain": [
       "0it [00:00, ?it/s]"
      ]
     },
     "metadata": {},
     "output_type": "display_data"
    },
    {
     "name": "stdout",
     "output_type": "stream",
     "text": [
      "[Epoch: 1] | Loss: 3.313041 [    0/ 2620 (0%)], Mean Wer: 96.67% [   0.8s]\n"
     ]
    },
    {
     "data": {
      "text/plain": [
       "{'loss': 0.09212151884122659, 'wer': 3.0159620154457354}"
      ]
     },
     "execution_count": 29,
     "metadata": {},
     "output_type": "execute_result"
    }
   ],
   "source": [
    "eval_epoch(model, cal_loss, test_loader, 0)"
   ]
  },
  {
   "cell_type": "code",
   "execution_count": null,
   "id": "55bf7618",
   "metadata": {
    "papermill": {
     "duration": 0.376788,
     "end_time": "2022-03-09T04:21:22.833703",
     "exception": false,
     "start_time": "2022-03-09T04:21:22.456915",
     "status": "completed"
    },
    "tags": []
   },
   "outputs": [],
   "source": []
  }
 ],
 "metadata": {
  "kernelspec": {
   "display_name": "Python 3",
   "language": "python",
   "name": "python3"
  },
  "language_info": {
   "codemirror_mode": {
    "name": "ipython",
    "version": 3
   },
   "file_extension": ".py",
   "mimetype": "text/x-python",
   "name": "python",
   "nbconvert_exporter": "python",
   "pygments_lexer": "ipython3",
   "version": "3.7.12"
  },
  "papermill": {
   "default_parameters": {},
   "duration": 3450.29844,
   "end_time": "2022-03-09T04:21:25.252481",
   "environment_variables": {},
   "exception": null,
   "input_path": "__notebook__.ipynb",
   "output_path": "__notebook__.ipynb",
   "parameters": {},
   "start_time": "2022-03-09T03:23:54.954041",
   "version": "2.3.3"
  },
  "widgets": {
   "application/vnd.jupyter.widget-state+json": {
    "state": {
     "0748b51251884aafa071af1fd15c18b0": {
      "model_module": "@jupyter-widgets/controls",
      "model_module_version": "1.5.0",
      "model_name": "HTMLModel",
      "state": {
       "_dom_classes": [],
       "_model_module": "@jupyter-widgets/controls",
       "_model_module_version": "1.5.0",
       "_model_name": "HTMLModel",
       "_view_count": null,
       "_view_module": "@jupyter-widgets/controls",
       "_view_module_version": "1.5.0",
       "_view_name": "HTMLView",
       "description": "",
       "description_tooltip": null,
       "layout": "IPY_MODEL_ce307e90ce124b48a67e8119a9ad9a2e",
       "placeholder": "​",
       "style": "IPY_MODEL_217c766ef1e449b6a06079f2db8d58c1",
       "value": " 4143/? [47:37&lt;00:00,  1.93it/s]"
      }
     },
     "09967c2f4ae247369941539033a6713d": {
      "model_module": "@jupyter-widgets/base",
      "model_module_version": "1.2.0",
      "model_name": "LayoutModel",
      "state": {
       "_model_module": "@jupyter-widgets/base",
       "_model_module_version": "1.2.0",
       "_model_name": "LayoutModel",
       "_view_count": null,
       "_view_module": "@jupyter-widgets/base",
       "_view_module_version": "1.2.0",
       "_view_name": "LayoutView",
       "align_content": null,
       "align_items": null,
       "align_self": null,
       "border": null,
       "bottom": null,
       "display": null,
       "flex": null,
       "flex_flow": null,
       "grid_area": null,
       "grid_auto_columns": null,
       "grid_auto_flow": null,
       "grid_auto_rows": null,
       "grid_column": null,
       "grid_gap": null,
       "grid_row": null,
       "grid_template_areas": null,
       "grid_template_columns": null,
       "grid_template_rows": null,
       "height": null,
       "justify_content": null,
       "justify_items": null,
       "left": null,
       "margin": null,
       "max_height": null,
       "max_width": null,
       "min_height": null,
       "min_width": null,
       "object_fit": null,
       "object_position": null,
       "order": null,
       "overflow": null,
       "overflow_x": null,
       "overflow_y": null,
       "padding": null,
       "right": null,
       "top": null,
       "visibility": null,
       "width": "20px"
      }
     },
     "1286316c553840219ccb94c80e47178d": {
      "model_module": "@jupyter-widgets/base",
      "model_module_version": "1.2.0",
      "model_name": "LayoutModel",
      "state": {
       "_model_module": "@jupyter-widgets/base",
       "_model_module_version": "1.2.0",
       "_model_name": "LayoutModel",
       "_view_count": null,
       "_view_module": "@jupyter-widgets/base",
       "_view_module_version": "1.2.0",
       "_view_name": "LayoutView",
       "align_content": null,
       "align_items": null,
       "align_self": null,
       "border": null,
       "bottom": null,
       "display": null,
       "flex": null,
       "flex_flow": null,
       "grid_area": null,
       "grid_auto_columns": null,
       "grid_auto_flow": null,
       "grid_auto_rows": null,
       "grid_column": null,
       "grid_gap": null,
       "grid_row": null,
       "grid_template_areas": null,
       "grid_template_columns": null,
       "grid_template_rows": null,
       "height": null,
       "justify_content": null,
       "justify_items": null,
       "left": null,
       "margin": null,
       "max_height": null,
       "max_width": null,
       "min_height": null,
       "min_width": null,
       "object_fit": null,
       "object_position": null,
       "order": null,
       "overflow": null,
       "overflow_x": null,
       "overflow_y": null,
       "padding": null,
       "right": null,
       "top": null,
       "visibility": null,
       "width": null
      }
     },
     "1adf5228edb54d8ea09e57df783fbf81": {
      "model_module": "@jupyter-widgets/base",
      "model_module_version": "1.2.0",
      "model_name": "LayoutModel",
      "state": {
       "_model_module": "@jupyter-widgets/base",
       "_model_module_version": "1.2.0",
       "_model_name": "LayoutModel",
       "_view_count": null,
       "_view_module": "@jupyter-widgets/base",
       "_view_module_version": "1.2.0",
       "_view_name": "LayoutView",
       "align_content": null,
       "align_items": null,
       "align_self": null,
       "border": null,
       "bottom": null,
       "display": null,
       "flex": null,
       "flex_flow": null,
       "grid_area": null,
       "grid_auto_columns": null,
       "grid_auto_flow": null,
       "grid_auto_rows": null,
       "grid_column": null,
       "grid_gap": null,
       "grid_row": null,
       "grid_template_areas": null,
       "grid_template_columns": null,
       "grid_template_rows": null,
       "height": null,
       "justify_content": null,
       "justify_items": null,
       "left": null,
       "margin": null,
       "max_height": null,
       "max_width": null,
       "min_height": null,
       "min_width": null,
       "object_fit": null,
       "object_position": null,
       "order": null,
       "overflow": null,
       "overflow_x": null,
       "overflow_y": null,
       "padding": null,
       "right": null,
       "top": null,
       "visibility": null,
       "width": null
      }
     },
     "217c766ef1e449b6a06079f2db8d58c1": {
      "model_module": "@jupyter-widgets/controls",
      "model_module_version": "1.5.0",
      "model_name": "DescriptionStyleModel",
      "state": {
       "_model_module": "@jupyter-widgets/controls",
       "_model_module_version": "1.5.0",
       "_model_name": "DescriptionStyleModel",
       "_view_count": null,
       "_view_module": "@jupyter-widgets/base",
       "_view_module_version": "1.2.0",
       "_view_name": "StyleView",
       "description_width": ""
      }
     },
     "2c5e3255d74d4edc8bd3c671f6ba0afb": {
      "model_module": "@jupyter-widgets/base",
      "model_module_version": "1.2.0",
      "model_name": "LayoutModel",
      "state": {
       "_model_module": "@jupyter-widgets/base",
       "_model_module_version": "1.2.0",
       "_model_name": "LayoutModel",
       "_view_count": null,
       "_view_module": "@jupyter-widgets/base",
       "_view_module_version": "1.2.0",
       "_view_name": "LayoutView",
       "align_content": null,
       "align_items": null,
       "align_self": null,
       "border": null,
       "bottom": null,
       "display": null,
       "flex": null,
       "flex_flow": null,
       "grid_area": null,
       "grid_auto_columns": null,
       "grid_auto_flow": null,
       "grid_auto_rows": null,
       "grid_column": null,
       "grid_gap": null,
       "grid_row": null,
       "grid_template_areas": null,
       "grid_template_columns": null,
       "grid_template_rows": null,
       "height": null,
       "justify_content": null,
       "justify_items": null,
       "left": null,
       "margin": null,
       "max_height": null,
       "max_width": null,
       "min_height": null,
       "min_width": null,
       "object_fit": null,
       "object_position": null,
       "order": null,
       "overflow": null,
       "overflow_x": null,
       "overflow_y": null,
       "padding": null,
       "right": null,
       "top": null,
       "visibility": null,
       "width": null
      }
     },
     "3267438b2fbf4417b1d4da5a356ec1ae": {
      "model_module": "@jupyter-widgets/base",
      "model_module_version": "1.2.0",
      "model_name": "LayoutModel",
      "state": {
       "_model_module": "@jupyter-widgets/base",
       "_model_module_version": "1.2.0",
       "_model_name": "LayoutModel",
       "_view_count": null,
       "_view_module": "@jupyter-widgets/base",
       "_view_module_version": "1.2.0",
       "_view_name": "LayoutView",
       "align_content": null,
       "align_items": null,
       "align_self": null,
       "border": null,
       "bottom": null,
       "display": null,
       "flex": null,
       "flex_flow": null,
       "grid_area": null,
       "grid_auto_columns": null,
       "grid_auto_flow": null,
       "grid_auto_rows": null,
       "grid_column": null,
       "grid_gap": null,
       "grid_row": null,
       "grid_template_areas": null,
       "grid_template_columns": null,
       "grid_template_rows": null,
       "height": null,
       "justify_content": null,
       "justify_items": null,
       "left": null,
       "margin": null,
       "max_height": null,
       "max_width": null,
       "min_height": null,
       "min_width": null,
       "object_fit": null,
       "object_position": null,
       "order": null,
       "overflow": null,
       "overflow_x": null,
       "overflow_y": null,
       "padding": null,
       "right": null,
       "top": null,
       "visibility": null,
       "width": null
      }
     },
     "355aa03b408a46c3952c3d54982e5480": {
      "model_module": "@jupyter-widgets/controls",
      "model_module_version": "1.5.0",
      "model_name": "DescriptionStyleModel",
      "state": {
       "_model_module": "@jupyter-widgets/controls",
       "_model_module_version": "1.5.0",
       "_model_name": "DescriptionStyleModel",
       "_view_count": null,
       "_view_module": "@jupyter-widgets/base",
       "_view_module_version": "1.2.0",
       "_view_name": "StyleView",
       "description_width": ""
      }
     },
     "40a40acaf8ae4a098bbc5825b991c39c": {
      "model_module": "@jupyter-widgets/controls",
      "model_module_version": "1.5.0",
      "model_name": "FloatProgressModel",
      "state": {
       "_dom_classes": [],
       "_model_module": "@jupyter-widgets/controls",
       "_model_module_version": "1.5.0",
       "_model_name": "FloatProgressModel",
       "_view_count": null,
       "_view_module": "@jupyter-widgets/controls",
       "_view_module_version": "1.5.0",
       "_view_name": "ProgressView",
       "bar_style": "success",
       "description": "",
       "description_tooltip": null,
       "layout": "IPY_MODEL_09967c2f4ae247369941539033a6713d",
       "max": 1.0,
       "min": 0.0,
       "orientation": "horizontal",
       "style": "IPY_MODEL_d67c840b10ec40d887d98c98d62b2696",
       "value": 1.0
      }
     },
     "44b34cf93d084d25b06afe1f9fd28c05": {
      "model_module": "@jupyter-widgets/base",
      "model_module_version": "1.2.0",
      "model_name": "LayoutModel",
      "state": {
       "_model_module": "@jupyter-widgets/base",
       "_model_module_version": "1.2.0",
       "_model_name": "LayoutModel",
       "_view_count": null,
       "_view_module": "@jupyter-widgets/base",
       "_view_module_version": "1.2.0",
       "_view_name": "LayoutView",
       "align_content": null,
       "align_items": null,
       "align_self": null,
       "border": null,
       "bottom": null,
       "display": null,
       "flex": null,
       "flex_flow": null,
       "grid_area": null,
       "grid_auto_columns": null,
       "grid_auto_flow": null,
       "grid_auto_rows": null,
       "grid_column": null,
       "grid_gap": null,
       "grid_row": null,
       "grid_template_areas": null,
       "grid_template_columns": null,
       "grid_template_rows": null,
       "height": null,
       "justify_content": null,
       "justify_items": null,
       "left": null,
       "margin": null,
       "max_height": null,
       "max_width": null,
       "min_height": null,
       "min_width": null,
       "object_fit": null,
       "object_position": null,
       "order": null,
       "overflow": null,
       "overflow_x": null,
       "overflow_y": null,
       "padding": null,
       "right": null,
       "top": null,
       "visibility": null,
       "width": "20px"
      }
     },
     "44e521fd4a8b46819ce7c39f1f5a323b": {
      "model_module": "@jupyter-widgets/controls",
      "model_module_version": "1.5.0",
      "model_name": "DescriptionStyleModel",
      "state": {
       "_model_module": "@jupyter-widgets/controls",
       "_model_module_version": "1.5.0",
       "_model_name": "DescriptionStyleModel",
       "_view_count": null,
       "_view_module": "@jupyter-widgets/base",
       "_view_module_version": "1.2.0",
       "_view_name": "StyleView",
       "description_width": ""
      }
     },
     "45f554b778734899aba1203af59c6cd6": {
      "model_module": "@jupyter-widgets/controls",
      "model_module_version": "1.5.0",
      "model_name": "ProgressStyleModel",
      "state": {
       "_model_module": "@jupyter-widgets/controls",
       "_model_module_version": "1.5.0",
       "_model_name": "ProgressStyleModel",
       "_view_count": null,
       "_view_module": "@jupyter-widgets/base",
       "_view_module_version": "1.2.0",
       "_view_name": "StyleView",
       "bar_color": null,
       "description_width": ""
      }
     },
     "4f02eea20b7e4e779e06e1dcd8897e6b": {
      "model_module": "@jupyter-widgets/base",
      "model_module_version": "1.2.0",
      "model_name": "LayoutModel",
      "state": {
       "_model_module": "@jupyter-widgets/base",
       "_model_module_version": "1.2.0",
       "_model_name": "LayoutModel",
       "_view_count": null,
       "_view_module": "@jupyter-widgets/base",
       "_view_module_version": "1.2.0",
       "_view_name": "LayoutView",
       "align_content": null,
       "align_items": null,
       "align_self": null,
       "border": null,
       "bottom": null,
       "display": null,
       "flex": null,
       "flex_flow": null,
       "grid_area": null,
       "grid_auto_columns": null,
       "grid_auto_flow": null,
       "grid_auto_rows": null,
       "grid_column": null,
       "grid_gap": null,
       "grid_row": null,
       "grid_template_areas": null,
       "grid_template_columns": null,
       "grid_template_rows": null,
       "height": null,
       "justify_content": null,
       "justify_items": null,
       "left": null,
       "margin": null,
       "max_height": null,
       "max_width": null,
       "min_height": null,
       "min_width": null,
       "object_fit": null,
       "object_position": null,
       "order": null,
       "overflow": null,
       "overflow_x": null,
       "overflow_y": null,
       "padding": null,
       "right": null,
       "top": null,
       "visibility": null,
       "width": "20px"
      }
     },
     "55dc2536c24b499aa06c390d5150b7e8": {
      "model_module": "@jupyter-widgets/base",
      "model_module_version": "1.2.0",
      "model_name": "LayoutModel",
      "state": {
       "_model_module": "@jupyter-widgets/base",
       "_model_module_version": "1.2.0",
       "_model_name": "LayoutModel",
       "_view_count": null,
       "_view_module": "@jupyter-widgets/base",
       "_view_module_version": "1.2.0",
       "_view_name": "LayoutView",
       "align_content": null,
       "align_items": null,
       "align_self": null,
       "border": null,
       "bottom": null,
       "display": null,
       "flex": null,
       "flex_flow": null,
       "grid_area": null,
       "grid_auto_columns": null,
       "grid_auto_flow": null,
       "grid_auto_rows": null,
       "grid_column": null,
       "grid_gap": null,
       "grid_row": null,
       "grid_template_areas": null,
       "grid_template_columns": null,
       "grid_template_rows": null,
       "height": null,
       "justify_content": null,
       "justify_items": null,
       "left": null,
       "margin": null,
       "max_height": null,
       "max_width": null,
       "min_height": null,
       "min_width": null,
       "object_fit": null,
       "object_position": null,
       "order": null,
       "overflow": null,
       "overflow_x": null,
       "overflow_y": null,
       "padding": null,
       "right": null,
       "top": null,
       "visibility": null,
       "width": "20px"
      }
     },
     "56eef95665e0417eb49e1c74132f665c": {
      "model_module": "@jupyter-widgets/controls",
      "model_module_version": "1.5.0",
      "model_name": "DescriptionStyleModel",
      "state": {
       "_model_module": "@jupyter-widgets/controls",
       "_model_module_version": "1.5.0",
       "_model_name": "DescriptionStyleModel",
       "_view_count": null,
       "_view_module": "@jupyter-widgets/base",
       "_view_module_version": "1.2.0",
       "_view_name": "StyleView",
       "description_width": ""
      }
     },
     "5ed45428b8b54611a0c2d4dde7e15a00": {
      "model_module": "@jupyter-widgets/base",
      "model_module_version": "1.2.0",
      "model_name": "LayoutModel",
      "state": {
       "_model_module": "@jupyter-widgets/base",
       "_model_module_version": "1.2.0",
       "_model_name": "LayoutModel",
       "_view_count": null,
       "_view_module": "@jupyter-widgets/base",
       "_view_module_version": "1.2.0",
       "_view_name": "LayoutView",
       "align_content": null,
       "align_items": null,
       "align_self": null,
       "border": null,
       "bottom": null,
       "display": null,
       "flex": null,
       "flex_flow": null,
       "grid_area": null,
       "grid_auto_columns": null,
       "grid_auto_flow": null,
       "grid_auto_rows": null,
       "grid_column": null,
       "grid_gap": null,
       "grid_row": null,
       "grid_template_areas": null,
       "grid_template_columns": null,
       "grid_template_rows": null,
       "height": null,
       "justify_content": null,
       "justify_items": null,
       "left": null,
       "margin": null,
       "max_height": null,
       "max_width": null,
       "min_height": null,
       "min_width": null,
       "object_fit": null,
       "object_position": null,
       "order": null,
       "overflow": null,
       "overflow_x": null,
       "overflow_y": null,
       "padding": null,
       "right": null,
       "top": null,
       "visibility": null,
       "width": null
      }
     },
     "5f75ef87cc564997848394af2b1446e7": {
      "model_module": "@jupyter-widgets/base",
      "model_module_version": "1.2.0",
      "model_name": "LayoutModel",
      "state": {
       "_model_module": "@jupyter-widgets/base",
       "_model_module_version": "1.2.0",
       "_model_name": "LayoutModel",
       "_view_count": null,
       "_view_module": "@jupyter-widgets/base",
       "_view_module_version": "1.2.0",
       "_view_name": "LayoutView",
       "align_content": null,
       "align_items": null,
       "align_self": null,
       "border": null,
       "bottom": null,
       "display": null,
       "flex": null,
       "flex_flow": null,
       "grid_area": null,
       "grid_auto_columns": null,
       "grid_auto_flow": null,
       "grid_auto_rows": null,
       "grid_column": null,
       "grid_gap": null,
       "grid_row": null,
       "grid_template_areas": null,
       "grid_template_columns": null,
       "grid_template_rows": null,
       "height": null,
       "justify_content": null,
       "justify_items": null,
       "left": null,
       "margin": null,
       "max_height": null,
       "max_width": null,
       "min_height": null,
       "min_width": null,
       "object_fit": null,
       "object_position": null,
       "order": null,
       "overflow": null,
       "overflow_x": null,
       "overflow_y": null,
       "padding": null,
       "right": null,
       "top": null,
       "visibility": null,
       "width": null
      }
     },
     "618d6c9473104a17ad2e33d3f86d95cc": {
      "model_module": "@jupyter-widgets/controls",
      "model_module_version": "1.5.0",
      "model_name": "HTMLModel",
      "state": {
       "_dom_classes": [],
       "_model_module": "@jupyter-widgets/controls",
       "_model_module_version": "1.5.0",
       "_model_name": "HTMLModel",
       "_view_count": null,
       "_view_module": "@jupyter-widgets/controls",
       "_view_module_version": "1.5.0",
       "_view_name": "HTMLView",
       "description": "",
       "description_tooltip": null,
       "layout": "IPY_MODEL_2c5e3255d74d4edc8bd3c671f6ba0afb",
       "placeholder": "​",
       "style": "IPY_MODEL_d3e3e0aa825b4d0e880be6b366594461",
       "value": " 82/? [00:47&lt;00:00,  1.86it/s]"
      }
     },
     "6dc604b02a134ad99a053e5a78e2763a": {
      "model_module": "@jupyter-widgets/controls",
      "model_module_version": "1.5.0",
      "model_name": "HTMLModel",
      "state": {
       "_dom_classes": [],
       "_model_module": "@jupyter-widgets/controls",
       "_model_module_version": "1.5.0",
       "_model_name": "HTMLModel",
       "_view_count": null,
       "_view_module": "@jupyter-widgets/controls",
       "_view_module_version": "1.5.0",
       "_view_name": "HTMLView",
       "description": "",
       "description_tooltip": null,
       "layout": "IPY_MODEL_1adf5228edb54d8ea09e57df783fbf81",
       "placeholder": "​",
       "style": "IPY_MODEL_be60d37d03c44c0792f0830b7b917d4c",
       "value": " 85/? [00:48&lt;00:00,  2.04it/s]"
      }
     },
     "6ff830f06a14475793819771c953170a": {
      "model_module": "@jupyter-widgets/controls",
      "model_module_version": "1.5.0",
      "model_name": "HBoxModel",
      "state": {
       "_dom_classes": [],
       "_model_module": "@jupyter-widgets/controls",
       "_model_module_version": "1.5.0",
       "_model_name": "HBoxModel",
       "_view_count": null,
       "_view_module": "@jupyter-widgets/controls",
       "_view_module_version": "1.5.0",
       "_view_name": "HBoxView",
       "box_style": "",
       "children": [
        "IPY_MODEL_f516b8a1cc6646718dc66f55e670a3da",
        "IPY_MODEL_cbe8bca421ef43ee9b62024fb3753969",
        "IPY_MODEL_ec54aa9db6114190a8e276401a42fc07"
       ],
       "layout": "IPY_MODEL_d27a615979074023b2459b18df93d4a4"
      }
     },
     "72d29b6f7c1a41f39add808d283d0001": {
      "model_module": "@jupyter-widgets/controls",
      "model_module_version": "1.5.0",
      "model_name": "HBoxModel",
      "state": {
       "_dom_classes": [],
       "_model_module": "@jupyter-widgets/controls",
       "_model_module_version": "1.5.0",
       "_model_name": "HBoxModel",
       "_view_count": null,
       "_view_module": "@jupyter-widgets/controls",
       "_view_module_version": "1.5.0",
       "_view_name": "HBoxView",
       "box_style": "",
       "children": [
        "IPY_MODEL_89e75d2764ea4657b36c99f96e2d4f76",
        "IPY_MODEL_ff5918afaa664e2bb6356180126ccfe0",
        "IPY_MODEL_0748b51251884aafa071af1fd15c18b0"
       ],
       "layout": "IPY_MODEL_a88241993ccf48ba899702d45739b808"
      }
     },
     "7c48847b162c41d2aa14db0b6c5f8452": {
      "model_module": "@jupyter-widgets/controls",
      "model_module_version": "1.5.0",
      "model_name": "HTMLModel",
      "state": {
       "_dom_classes": [],
       "_model_module": "@jupyter-widgets/controls",
       "_model_module_version": "1.5.0",
       "_model_name": "HTMLModel",
       "_view_count": null,
       "_view_module": "@jupyter-widgets/controls",
       "_view_module_version": "1.5.0",
       "_view_name": "HTMLView",
       "description": "",
       "description_tooltip": null,
       "layout": "IPY_MODEL_5f75ef87cc564997848394af2b1446e7",
       "placeholder": "​",
       "style": "IPY_MODEL_355aa03b408a46c3952c3d54982e5480",
       "value": ""
      }
     },
     "8332146887254c129fb4e0f75978a6d5": {
      "model_module": "@jupyter-widgets/controls",
      "model_module_version": "1.5.0",
      "model_name": "ProgressStyleModel",
      "state": {
       "_model_module": "@jupyter-widgets/controls",
       "_model_module_version": "1.5.0",
       "_model_name": "ProgressStyleModel",
       "_view_count": null,
       "_view_module": "@jupyter-widgets/base",
       "_view_module_version": "1.2.0",
       "_view_name": "StyleView",
       "bar_color": null,
       "description_width": ""
      }
     },
     "8720ff7ade2c450da1feaddafc2c8c84": {
      "model_module": "@jupyter-widgets/base",
      "model_module_version": "1.2.0",
      "model_name": "LayoutModel",
      "state": {
       "_model_module": "@jupyter-widgets/base",
       "_model_module_version": "1.2.0",
       "_model_name": "LayoutModel",
       "_view_count": null,
       "_view_module": "@jupyter-widgets/base",
       "_view_module_version": "1.2.0",
       "_view_name": "LayoutView",
       "align_content": null,
       "align_items": null,
       "align_self": null,
       "border": null,
       "bottom": null,
       "display": null,
       "flex": null,
       "flex_flow": null,
       "grid_area": null,
       "grid_auto_columns": null,
       "grid_auto_flow": null,
       "grid_auto_rows": null,
       "grid_column": null,
       "grid_gap": null,
       "grid_row": null,
       "grid_template_areas": null,
       "grid_template_columns": null,
       "grid_template_rows": null,
       "height": null,
       "justify_content": null,
       "justify_items": null,
       "left": null,
       "margin": null,
       "max_height": null,
       "max_width": null,
       "min_height": null,
       "min_width": null,
       "object_fit": null,
       "object_position": null,
       "order": null,
       "overflow": null,
       "overflow_x": null,
       "overflow_y": null,
       "padding": null,
       "right": null,
       "top": null,
       "visibility": null,
       "width": null
      }
     },
     "8768bb068532498b909e580d756d47a9": {
      "model_module": "@jupyter-widgets/controls",
      "model_module_version": "1.5.0",
      "model_name": "ProgressStyleModel",
      "state": {
       "_model_module": "@jupyter-widgets/controls",
       "_model_module_version": "1.5.0",
       "_model_name": "ProgressStyleModel",
       "_view_count": null,
       "_view_module": "@jupyter-widgets/base",
       "_view_module_version": "1.2.0",
       "_view_name": "StyleView",
       "bar_color": null,
       "description_width": ""
      }
     },
     "88cf0ac0a529442bb94d2535490a2182": {
      "model_module": "@jupyter-widgets/controls",
      "model_module_version": "1.5.0",
      "model_name": "DescriptionStyleModel",
      "state": {
       "_model_module": "@jupyter-widgets/controls",
       "_model_module_version": "1.5.0",
       "_model_name": "DescriptionStyleModel",
       "_view_count": null,
       "_view_module": "@jupyter-widgets/base",
       "_view_module_version": "1.2.0",
       "_view_name": "StyleView",
       "description_width": ""
      }
     },
     "89e75d2764ea4657b36c99f96e2d4f76": {
      "model_module": "@jupyter-widgets/controls",
      "model_module_version": "1.5.0",
      "model_name": "HTMLModel",
      "state": {
       "_dom_classes": [],
       "_model_module": "@jupyter-widgets/controls",
       "_model_module_version": "1.5.0",
       "_model_name": "HTMLModel",
       "_view_count": null,
       "_view_module": "@jupyter-widgets/controls",
       "_view_module_version": "1.5.0",
       "_view_name": "HTMLView",
       "description": "",
       "description_tooltip": null,
       "layout": "IPY_MODEL_da7f6070e22a47f58260409e647c445a",
       "placeholder": "​",
       "style": "IPY_MODEL_966c61c5d97d4276b9afaa1a4bcb6fd4",
       "value": ""
      }
     },
     "912573eb22834697a883d8c92e627496": {
      "model_module": "@jupyter-widgets/base",
      "model_module_version": "1.2.0",
      "model_name": "LayoutModel",
      "state": {
       "_model_module": "@jupyter-widgets/base",
       "_model_module_version": "1.2.0",
       "_model_name": "LayoutModel",
       "_view_count": null,
       "_view_module": "@jupyter-widgets/base",
       "_view_module_version": "1.2.0",
       "_view_name": "LayoutView",
       "align_content": null,
       "align_items": null,
       "align_self": null,
       "border": null,
       "bottom": null,
       "display": null,
       "flex": null,
       "flex_flow": null,
       "grid_area": null,
       "grid_auto_columns": null,
       "grid_auto_flow": null,
       "grid_auto_rows": null,
       "grid_column": null,
       "grid_gap": null,
       "grid_row": null,
       "grid_template_areas": null,
       "grid_template_columns": null,
       "grid_template_rows": null,
       "height": null,
       "justify_content": null,
       "justify_items": null,
       "left": null,
       "margin": null,
       "max_height": null,
       "max_width": null,
       "min_height": null,
       "min_width": null,
       "object_fit": null,
       "object_position": null,
       "order": null,
       "overflow": null,
       "overflow_x": null,
       "overflow_y": null,
       "padding": null,
       "right": null,
       "top": null,
       "visibility": null,
       "width": null
      }
     },
     "9430cba7a37046aa8ac77849094728c3": {
      "model_module": "@jupyter-widgets/controls",
      "model_module_version": "1.5.0",
      "model_name": "FloatProgressModel",
      "state": {
       "_dom_classes": [],
       "_model_module": "@jupyter-widgets/controls",
       "_model_module_version": "1.5.0",
       "_model_name": "FloatProgressModel",
       "_view_count": null,
       "_view_module": "@jupyter-widgets/controls",
       "_view_module_version": "1.5.0",
       "_view_name": "ProgressView",
       "bar_style": "success",
       "description": "",
       "description_tooltip": null,
       "layout": "IPY_MODEL_55dc2536c24b499aa06c390d5150b7e8",
       "max": 1.0,
       "min": 0.0,
       "orientation": "horizontal",
       "style": "IPY_MODEL_8332146887254c129fb4e0f75978a6d5",
       "value": 1.0
      }
     },
     "966c61c5d97d4276b9afaa1a4bcb6fd4": {
      "model_module": "@jupyter-widgets/controls",
      "model_module_version": "1.5.0",
      "model_name": "DescriptionStyleModel",
      "state": {
       "_model_module": "@jupyter-widgets/controls",
       "_model_module_version": "1.5.0",
       "_model_name": "DescriptionStyleModel",
       "_view_count": null,
       "_view_module": "@jupyter-widgets/base",
       "_view_module_version": "1.2.0",
       "_view_name": "StyleView",
       "description_width": ""
      }
     },
     "a88241993ccf48ba899702d45739b808": {
      "model_module": "@jupyter-widgets/base",
      "model_module_version": "1.2.0",
      "model_name": "LayoutModel",
      "state": {
       "_model_module": "@jupyter-widgets/base",
       "_model_module_version": "1.2.0",
       "_model_name": "LayoutModel",
       "_view_count": null,
       "_view_module": "@jupyter-widgets/base",
       "_view_module_version": "1.2.0",
       "_view_name": "LayoutView",
       "align_content": null,
       "align_items": null,
       "align_self": null,
       "border": null,
       "bottom": null,
       "display": null,
       "flex": null,
       "flex_flow": null,
       "grid_area": null,
       "grid_auto_columns": null,
       "grid_auto_flow": null,
       "grid_auto_rows": null,
       "grid_column": null,
       "grid_gap": null,
       "grid_row": null,
       "grid_template_areas": null,
       "grid_template_columns": null,
       "grid_template_rows": null,
       "height": null,
       "justify_content": null,
       "justify_items": null,
       "left": null,
       "margin": null,
       "max_height": null,
       "max_width": null,
       "min_height": null,
       "min_width": null,
       "object_fit": null,
       "object_position": null,
       "order": null,
       "overflow": null,
       "overflow_x": null,
       "overflow_y": null,
       "padding": null,
       "right": null,
       "top": null,
       "visibility": null,
       "width": null
      }
     },
     "be60d37d03c44c0792f0830b7b917d4c": {
      "model_module": "@jupyter-widgets/controls",
      "model_module_version": "1.5.0",
      "model_name": "DescriptionStyleModel",
      "state": {
       "_model_module": "@jupyter-widgets/controls",
       "_model_module_version": "1.5.0",
       "_model_name": "DescriptionStyleModel",
       "_view_count": null,
       "_view_module": "@jupyter-widgets/base",
       "_view_module_version": "1.2.0",
       "_view_name": "StyleView",
       "description_width": ""
      }
     },
     "c515f5a16d1e4a67b20619a8b55a6fd3": {
      "model_module": "@jupyter-widgets/controls",
      "model_module_version": "1.5.0",
      "model_name": "HBoxModel",
      "state": {
       "_dom_classes": [],
       "_model_module": "@jupyter-widgets/controls",
       "_model_module_version": "1.5.0",
       "_model_name": "HBoxModel",
       "_view_count": null,
       "_view_module": "@jupyter-widgets/controls",
       "_view_module_version": "1.5.0",
       "_view_name": "HBoxView",
       "box_style": "",
       "children": [
        "IPY_MODEL_f517346b2f3e4e93ba84060c8ef88b6e",
        "IPY_MODEL_40a40acaf8ae4a098bbc5825b991c39c",
        "IPY_MODEL_618d6c9473104a17ad2e33d3f86d95cc"
       ],
       "layout": "IPY_MODEL_3267438b2fbf4417b1d4da5a356ec1ae"
      }
     },
     "cbe8bca421ef43ee9b62024fb3753969": {
      "model_module": "@jupyter-widgets/controls",
      "model_module_version": "1.5.0",
      "model_name": "FloatProgressModel",
      "state": {
       "_dom_classes": [],
       "_model_module": "@jupyter-widgets/controls",
       "_model_module_version": "1.5.0",
       "_model_name": "FloatProgressModel",
       "_view_count": null,
       "_view_module": "@jupyter-widgets/controls",
       "_view_module_version": "1.5.0",
       "_view_name": "ProgressView",
       "bar_style": "success",
       "description": "",
       "description_tooltip": null,
       "layout": "IPY_MODEL_4f02eea20b7e4e779e06e1dcd8897e6b",
       "max": 1.0,
       "min": 0.0,
       "orientation": "horizontal",
       "style": "IPY_MODEL_45f554b778734899aba1203af59c6cd6",
       "value": 0.0
      }
     },
     "ce307e90ce124b48a67e8119a9ad9a2e": {
      "model_module": "@jupyter-widgets/base",
      "model_module_version": "1.2.0",
      "model_name": "LayoutModel",
      "state": {
       "_model_module": "@jupyter-widgets/base",
       "_model_module_version": "1.2.0",
       "_model_name": "LayoutModel",
       "_view_count": null,
       "_view_module": "@jupyter-widgets/base",
       "_view_module_version": "1.2.0",
       "_view_name": "LayoutView",
       "align_content": null,
       "align_items": null,
       "align_self": null,
       "border": null,
       "bottom": null,
       "display": null,
       "flex": null,
       "flex_flow": null,
       "grid_area": null,
       "grid_auto_columns": null,
       "grid_auto_flow": null,
       "grid_auto_rows": null,
       "grid_column": null,
       "grid_gap": null,
       "grid_row": null,
       "grid_template_areas": null,
       "grid_template_columns": null,
       "grid_template_rows": null,
       "height": null,
       "justify_content": null,
       "justify_items": null,
       "left": null,
       "margin": null,
       "max_height": null,
       "max_width": null,
       "min_height": null,
       "min_width": null,
       "object_fit": null,
       "object_position": null,
       "order": null,
       "overflow": null,
       "overflow_x": null,
       "overflow_y": null,
       "padding": null,
       "right": null,
       "top": null,
       "visibility": null,
       "width": null
      }
     },
     "d27a615979074023b2459b18df93d4a4": {
      "model_module": "@jupyter-widgets/base",
      "model_module_version": "1.2.0",
      "model_name": "LayoutModel",
      "state": {
       "_model_module": "@jupyter-widgets/base",
       "_model_module_version": "1.2.0",
       "_model_name": "LayoutModel",
       "_view_count": null,
       "_view_module": "@jupyter-widgets/base",
       "_view_module_version": "1.2.0",
       "_view_name": "LayoutView",
       "align_content": null,
       "align_items": null,
       "align_self": null,
       "border": null,
       "bottom": null,
       "display": null,
       "flex": null,
       "flex_flow": null,
       "grid_area": null,
       "grid_auto_columns": null,
       "grid_auto_flow": null,
       "grid_auto_rows": null,
       "grid_column": null,
       "grid_gap": null,
       "grid_row": null,
       "grid_template_areas": null,
       "grid_template_columns": null,
       "grid_template_rows": null,
       "height": null,
       "justify_content": null,
       "justify_items": null,
       "left": null,
       "margin": null,
       "max_height": null,
       "max_width": null,
       "min_height": null,
       "min_width": null,
       "object_fit": null,
       "object_position": null,
       "order": null,
       "overflow": null,
       "overflow_x": null,
       "overflow_y": null,
       "padding": null,
       "right": null,
       "top": null,
       "visibility": null,
       "width": null
      }
     },
     "d3e3e0aa825b4d0e880be6b366594461": {
      "model_module": "@jupyter-widgets/controls",
      "model_module_version": "1.5.0",
      "model_name": "DescriptionStyleModel",
      "state": {
       "_model_module": "@jupyter-widgets/controls",
       "_model_module_version": "1.5.0",
       "_model_name": "DescriptionStyleModel",
       "_view_count": null,
       "_view_module": "@jupyter-widgets/base",
       "_view_module_version": "1.2.0",
       "_view_name": "StyleView",
       "description_width": ""
      }
     },
     "d67c840b10ec40d887d98c98d62b2696": {
      "model_module": "@jupyter-widgets/controls",
      "model_module_version": "1.5.0",
      "model_name": "ProgressStyleModel",
      "state": {
       "_model_module": "@jupyter-widgets/controls",
       "_model_module_version": "1.5.0",
       "_model_name": "ProgressStyleModel",
       "_view_count": null,
       "_view_module": "@jupyter-widgets/base",
       "_view_module_version": "1.2.0",
       "_view_name": "StyleView",
       "bar_color": null,
       "description_width": ""
      }
     },
     "da7f6070e22a47f58260409e647c445a": {
      "model_module": "@jupyter-widgets/base",
      "model_module_version": "1.2.0",
      "model_name": "LayoutModel",
      "state": {
       "_model_module": "@jupyter-widgets/base",
       "_model_module_version": "1.2.0",
       "_model_name": "LayoutModel",
       "_view_count": null,
       "_view_module": "@jupyter-widgets/base",
       "_view_module_version": "1.2.0",
       "_view_name": "LayoutView",
       "align_content": null,
       "align_items": null,
       "align_self": null,
       "border": null,
       "bottom": null,
       "display": null,
       "flex": null,
       "flex_flow": null,
       "grid_area": null,
       "grid_auto_columns": null,
       "grid_auto_flow": null,
       "grid_auto_rows": null,
       "grid_column": null,
       "grid_gap": null,
       "grid_row": null,
       "grid_template_areas": null,
       "grid_template_columns": null,
       "grid_template_rows": null,
       "height": null,
       "justify_content": null,
       "justify_items": null,
       "left": null,
       "margin": null,
       "max_height": null,
       "max_width": null,
       "min_height": null,
       "min_width": null,
       "object_fit": null,
       "object_position": null,
       "order": null,
       "overflow": null,
       "overflow_x": null,
       "overflow_y": null,
       "padding": null,
       "right": null,
       "top": null,
       "visibility": null,
       "width": null
      }
     },
     "dac084df7cb5459d986cf27b32e1c8d6": {
      "model_module": "@jupyter-widgets/controls",
      "model_module_version": "1.5.0",
      "model_name": "HBoxModel",
      "state": {
       "_dom_classes": [],
       "_model_module": "@jupyter-widgets/controls",
       "_model_module_version": "1.5.0",
       "_model_name": "HBoxModel",
       "_view_count": null,
       "_view_module": "@jupyter-widgets/controls",
       "_view_module_version": "1.5.0",
       "_view_name": "HBoxView",
       "box_style": "",
       "children": [
        "IPY_MODEL_7c48847b162c41d2aa14db0b6c5f8452",
        "IPY_MODEL_9430cba7a37046aa8ac77849094728c3",
        "IPY_MODEL_6dc604b02a134ad99a053e5a78e2763a"
       ],
       "layout": "IPY_MODEL_8720ff7ade2c450da1feaddafc2c8c84"
      }
     },
     "ec54aa9db6114190a8e276401a42fc07": {
      "model_module": "@jupyter-widgets/controls",
      "model_module_version": "1.5.0",
      "model_name": "HTMLModel",
      "state": {
       "_dom_classes": [],
       "_model_module": "@jupyter-widgets/controls",
       "_model_module_version": "1.5.0",
       "_model_name": "HTMLModel",
       "_view_count": null,
       "_view_module": "@jupyter-widgets/controls",
       "_view_module_version": "1.5.0",
       "_view_name": "HTMLView",
       "description": "",
       "description_tooltip": null,
       "layout": "IPY_MODEL_5ed45428b8b54611a0c2d4dde7e15a00",
       "placeholder": "​",
       "style": "IPY_MODEL_44e521fd4a8b46819ce7c39f1f5a323b",
       "value": " 0/0 [00:00&lt;?, ?it/s]"
      }
     },
     "f516b8a1cc6646718dc66f55e670a3da": {
      "model_module": "@jupyter-widgets/controls",
      "model_module_version": "1.5.0",
      "model_name": "HTMLModel",
      "state": {
       "_dom_classes": [],
       "_model_module": "@jupyter-widgets/controls",
       "_model_module_version": "1.5.0",
       "_model_name": "HTMLModel",
       "_view_count": null,
       "_view_module": "@jupyter-widgets/controls",
       "_view_module_version": "1.5.0",
       "_view_name": "HTMLView",
       "description": "",
       "description_tooltip": null,
       "layout": "IPY_MODEL_912573eb22834697a883d8c92e627496",
       "placeholder": "​",
       "style": "IPY_MODEL_56eef95665e0417eb49e1c74132f665c",
       "value": ""
      }
     },
     "f517346b2f3e4e93ba84060c8ef88b6e": {
      "model_module": "@jupyter-widgets/controls",
      "model_module_version": "1.5.0",
      "model_name": "HTMLModel",
      "state": {
       "_dom_classes": [],
       "_model_module": "@jupyter-widgets/controls",
       "_model_module_version": "1.5.0",
       "_model_name": "HTMLModel",
       "_view_count": null,
       "_view_module": "@jupyter-widgets/controls",
       "_view_module_version": "1.5.0",
       "_view_name": "HTMLView",
       "description": "",
       "description_tooltip": null,
       "layout": "IPY_MODEL_1286316c553840219ccb94c80e47178d",
       "placeholder": "​",
       "style": "IPY_MODEL_88cf0ac0a529442bb94d2535490a2182",
       "value": ""
      }
     },
     "ff5918afaa664e2bb6356180126ccfe0": {
      "model_module": "@jupyter-widgets/controls",
      "model_module_version": "1.5.0",
      "model_name": "FloatProgressModel",
      "state": {
       "_dom_classes": [],
       "_model_module": "@jupyter-widgets/controls",
       "_model_module_version": "1.5.0",
       "_model_name": "FloatProgressModel",
       "_view_count": null,
       "_view_module": "@jupyter-widgets/controls",
       "_view_module_version": "1.5.0",
       "_view_name": "ProgressView",
       "bar_style": "success",
       "description": "",
       "description_tooltip": null,
       "layout": "IPY_MODEL_44b34cf93d084d25b06afe1f9fd28c05",
       "max": 1.0,
       "min": 0.0,
       "orientation": "horizontal",
       "style": "IPY_MODEL_8768bb068532498b909e580d756d47a9",
       "value": 1.0
      }
     }
    },
    "version_major": 2,
    "version_minor": 0
   }
  }
 },
 "nbformat": 4,
 "nbformat_minor": 5
}
